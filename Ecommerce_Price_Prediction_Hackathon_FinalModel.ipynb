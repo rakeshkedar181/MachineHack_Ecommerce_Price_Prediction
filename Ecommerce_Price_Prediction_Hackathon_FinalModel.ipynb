{
 "cells": [
  {
   "cell_type": "code",
   "execution_count": 1,
   "metadata": {},
   "outputs": [],
   "source": [
    "import numpy as np # linear algebra\n",
    "import pandas as pd \n",
    "from xgboost import XGBRegressor\n",
    "from lightgbm import LGBMRegressor\n",
    "from catboost import CatBoostRegressor\n",
    "import time\n",
    "from sklearn.model_selection import *\n",
    "from sklearn.ensemble import RandomForestRegressor\n",
    "from sklearn.metrics import *\n",
    "import matplotlib.pyplot as plt\n",
    "%matplotlib inline\n",
    "import re\n",
    "\n",
    "pd.set_option('display.max_rows',None)"
   ]
  },
  {
   "cell_type": "code",
   "execution_count": 2,
   "metadata": {},
   "outputs": [],
   "source": [
    "def rmse(y_true, y_pred):\n",
    "    return mean_squared_error(y_true, y_pred) ** 0.5"
   ]
  },
  {
   "cell_type": "code",
   "execution_count": 3,
   "metadata": {},
   "outputs": [],
   "source": [
    "train = pd.read_csv('Train.csv')\n",
    "test = pd.read_csv('Test.csv')\n",
    "sample_sub = pd.read_excel('Sample_Submission.xlsx')"
   ]
  },
  {
   "cell_type": "code",
   "execution_count": 4,
   "metadata": {},
   "outputs": [
    {
     "data": {
      "text/html": [
       "<div>\n",
       "<style scoped>\n",
       "    .dataframe tbody tr th:only-of-type {\n",
       "        vertical-align: middle;\n",
       "    }\n",
       "\n",
       "    .dataframe tbody tr th {\n",
       "        vertical-align: top;\n",
       "    }\n",
       "\n",
       "    .dataframe thead th {\n",
       "        text-align: right;\n",
       "    }\n",
       "</style>\n",
       "<table border=\"1\" class=\"dataframe\">\n",
       "  <thead>\n",
       "    <tr style=\"text-align: right;\">\n",
       "      <th></th>\n",
       "      <th>product</th>\n",
       "      <th>brand</th>\n",
       "      <th>category</th>\n",
       "      <th>subcategory</th>\n",
       "      <th>variant</th>\n",
       "      <th>rating</th>\n",
       "      <th>date</th>\n",
       "      <th>price</th>\n",
       "    </tr>\n",
       "  </thead>\n",
       "  <tbody>\n",
       "    <tr>\n",
       "      <td>0</td>\n",
       "      <td>P-2610</td>\n",
       "      <td>B-659</td>\n",
       "      <td>bags wallets belts</td>\n",
       "      <td>bags</td>\n",
       "      <td>hand bags</td>\n",
       "      <td>4.3</td>\n",
       "      <td>02-03-2017</td>\n",
       "      <td>291</td>\n",
       "    </tr>\n",
       "    <tr>\n",
       "      <td>1</td>\n",
       "      <td>P-2453</td>\n",
       "      <td>B-3078</td>\n",
       "      <td>clothing</td>\n",
       "      <td>women s clothing</td>\n",
       "      <td>western wear</td>\n",
       "      <td>3.1</td>\n",
       "      <td>07-01-2015</td>\n",
       "      <td>897</td>\n",
       "    </tr>\n",
       "    <tr>\n",
       "      <td>2</td>\n",
       "      <td>P-6802</td>\n",
       "      <td>B-1810</td>\n",
       "      <td>home decor festive needs</td>\n",
       "      <td>showpieces</td>\n",
       "      <td>ethnic</td>\n",
       "      <td>3.5</td>\n",
       "      <td>01-12-2019</td>\n",
       "      <td>792</td>\n",
       "    </tr>\n",
       "    <tr>\n",
       "      <td>3</td>\n",
       "      <td>P-4452</td>\n",
       "      <td>B-3078</td>\n",
       "      <td>beauty and personal care</td>\n",
       "      <td>eye care</td>\n",
       "      <td>h2o plus eye care</td>\n",
       "      <td>4.0</td>\n",
       "      <td>12-12-2014</td>\n",
       "      <td>837</td>\n",
       "    </tr>\n",
       "    <tr>\n",
       "      <td>4</td>\n",
       "      <td>P-8454</td>\n",
       "      <td>B-3078</td>\n",
       "      <td>clothing</td>\n",
       "      <td>men s clothing</td>\n",
       "      <td>t shirts</td>\n",
       "      <td>4.3</td>\n",
       "      <td>12-12-2013</td>\n",
       "      <td>470</td>\n",
       "    </tr>\n",
       "  </tbody>\n",
       "</table>\n",
       "</div>"
      ],
      "text/plain": [
       "  product   brand                  category       subcategory  \\\n",
       "0  P-2610   B-659        bags wallets belts              bags   \n",
       "1  P-2453  B-3078                  clothing  women s clothing   \n",
       "2  P-6802  B-1810  home decor festive needs        showpieces   \n",
       "3  P-4452  B-3078  beauty and personal care          eye care   \n",
       "4  P-8454  B-3078                  clothing    men s clothing   \n",
       "\n",
       "             variant  rating        date  price  \n",
       "0          hand bags     4.3  02-03-2017    291  \n",
       "1       western wear     3.1  07-01-2015    897  \n",
       "2             ethnic     3.5  01-12-2019    792  \n",
       "3  h2o plus eye care     4.0  12-12-2014    837  \n",
       "4           t shirts     4.3  12-12-2013    470  "
      ]
     },
     "execution_count": 4,
     "metadata": {},
     "output_type": "execute_result"
    }
   ],
   "source": [
    "# I have renamed columns in excel before importing the dataset for better understanding\n",
    "train.head()"
   ]
  },
  {
   "cell_type": "code",
   "execution_count": 5,
   "metadata": {},
   "outputs": [
    {
     "name": "stdout",
     "output_type": "stream",
     "text": [
      "(2452, 8)\n"
     ]
    }
   ],
   "source": [
    "print(train.shape)"
   ]
  },
  {
   "cell_type": "code",
   "execution_count": 6,
   "metadata": {},
   "outputs": [
    {
     "name": "stdout",
     "output_type": "stream",
     "text": [
      "(1051, 7)\n"
     ]
    }
   ],
   "source": [
    "print(test.shape)"
   ]
  },
  {
   "cell_type": "code",
   "execution_count": 7,
   "metadata": {},
   "outputs": [],
   "source": [
    "# processing date column\n",
    "train['date'] = pd.to_datetime(train['date'])\n",
    "test['date'] = pd.to_datetime(test['date'])\n",
    "\n",
    "train['year'] = train['date'].dt.year\n",
    "train['month'] = train['date'].dt.month\n",
    "test['year'] = test['date'].dt.year\n",
    "test['month'] = test['date'].dt.month\n",
    "train['day'] = train['date'].dt.dayofweek\n",
    "test['day'] = test['date'].dt.dayofweek\n",
    "train['year_rating'] = train['year'] + train['rating']\n",
    "test['year_rating'] = test['year'] + test['rating']\n",
    "train['month_rating'] = train['month'] + train['rating']\n",
    "test['month_rating'] = test['month'] + test['rating']"
   ]
  },
  {
   "cell_type": "code",
   "execution_count": 8,
   "metadata": {},
   "outputs": [
    {
     "data": {
      "text/html": [
       "<div>\n",
       "<style scoped>\n",
       "    .dataframe tbody tr th:only-of-type {\n",
       "        vertical-align: middle;\n",
       "    }\n",
       "\n",
       "    .dataframe tbody tr th {\n",
       "        vertical-align: top;\n",
       "    }\n",
       "\n",
       "    .dataframe thead th {\n",
       "        text-align: right;\n",
       "    }\n",
       "</style>\n",
       "<table border=\"1\" class=\"dataframe\">\n",
       "  <thead>\n",
       "    <tr style=\"text-align: right;\">\n",
       "      <th></th>\n",
       "      <th>product</th>\n",
       "      <th>brand</th>\n",
       "      <th>category</th>\n",
       "      <th>subcategory</th>\n",
       "      <th>variant</th>\n",
       "      <th>rating</th>\n",
       "      <th>date</th>\n",
       "      <th>price</th>\n",
       "      <th>year</th>\n",
       "      <th>month</th>\n",
       "      <th>day</th>\n",
       "      <th>year_rating</th>\n",
       "      <th>month_rating</th>\n",
       "    </tr>\n",
       "  </thead>\n",
       "  <tbody>\n",
       "    <tr>\n",
       "      <td>0</td>\n",
       "      <td>P-2610</td>\n",
       "      <td>B-659</td>\n",
       "      <td>bags wallets belts</td>\n",
       "      <td>bags</td>\n",
       "      <td>hand bags</td>\n",
       "      <td>4.3</td>\n",
       "      <td>2017-02-03</td>\n",
       "      <td>291</td>\n",
       "      <td>2017</td>\n",
       "      <td>2</td>\n",
       "      <td>4</td>\n",
       "      <td>2021.3</td>\n",
       "      <td>6.3</td>\n",
       "    </tr>\n",
       "    <tr>\n",
       "      <td>1</td>\n",
       "      <td>P-2453</td>\n",
       "      <td>B-3078</td>\n",
       "      <td>clothing</td>\n",
       "      <td>women s clothing</td>\n",
       "      <td>western wear</td>\n",
       "      <td>3.1</td>\n",
       "      <td>2015-07-01</td>\n",
       "      <td>897</td>\n",
       "      <td>2015</td>\n",
       "      <td>7</td>\n",
       "      <td>2</td>\n",
       "      <td>2018.1</td>\n",
       "      <td>10.1</td>\n",
       "    </tr>\n",
       "    <tr>\n",
       "      <td>2</td>\n",
       "      <td>P-6802</td>\n",
       "      <td>B-1810</td>\n",
       "      <td>home decor festive needs</td>\n",
       "      <td>showpieces</td>\n",
       "      <td>ethnic</td>\n",
       "      <td>3.5</td>\n",
       "      <td>2019-01-12</td>\n",
       "      <td>792</td>\n",
       "      <td>2019</td>\n",
       "      <td>1</td>\n",
       "      <td>5</td>\n",
       "      <td>2022.5</td>\n",
       "      <td>4.5</td>\n",
       "    </tr>\n",
       "    <tr>\n",
       "      <td>3</td>\n",
       "      <td>P-4452</td>\n",
       "      <td>B-3078</td>\n",
       "      <td>beauty and personal care</td>\n",
       "      <td>eye care</td>\n",
       "      <td>h2o plus eye care</td>\n",
       "      <td>4.0</td>\n",
       "      <td>2014-12-12</td>\n",
       "      <td>837</td>\n",
       "      <td>2014</td>\n",
       "      <td>12</td>\n",
       "      <td>4</td>\n",
       "      <td>2018.0</td>\n",
       "      <td>16.0</td>\n",
       "    </tr>\n",
       "    <tr>\n",
       "      <td>4</td>\n",
       "      <td>P-8454</td>\n",
       "      <td>B-3078</td>\n",
       "      <td>clothing</td>\n",
       "      <td>men s clothing</td>\n",
       "      <td>t shirts</td>\n",
       "      <td>4.3</td>\n",
       "      <td>2013-12-12</td>\n",
       "      <td>470</td>\n",
       "      <td>2013</td>\n",
       "      <td>12</td>\n",
       "      <td>3</td>\n",
       "      <td>2017.3</td>\n",
       "      <td>16.3</td>\n",
       "    </tr>\n",
       "  </tbody>\n",
       "</table>\n",
       "</div>"
      ],
      "text/plain": [
       "  product   brand                  category       subcategory  \\\n",
       "0  P-2610   B-659        bags wallets belts              bags   \n",
       "1  P-2453  B-3078                  clothing  women s clothing   \n",
       "2  P-6802  B-1810  home decor festive needs        showpieces   \n",
       "3  P-4452  B-3078  beauty and personal care          eye care   \n",
       "4  P-8454  B-3078                  clothing    men s clothing   \n",
       "\n",
       "             variant  rating       date  price  year  month  day  year_rating  \\\n",
       "0          hand bags     4.3 2017-02-03    291  2017      2    4       2021.3   \n",
       "1       western wear     3.1 2015-07-01    897  2015      7    2       2018.1   \n",
       "2             ethnic     3.5 2019-01-12    792  2019      1    5       2022.5   \n",
       "3  h2o plus eye care     4.0 2014-12-12    837  2014     12    4       2018.0   \n",
       "4           t shirts     4.3 2013-12-12    470  2013     12    3       2017.3   \n",
       "\n",
       "   month_rating  \n",
       "0           6.3  \n",
       "1          10.1  \n",
       "2           4.5  \n",
       "3          16.0  \n",
       "4          16.3  "
      ]
     },
     "execution_count": 8,
     "metadata": {},
     "output_type": "execute_result"
    }
   ],
   "source": [
    "train.head()"
   ]
  },
  {
   "cell_type": "code",
   "execution_count": 9,
   "metadata": {},
   "outputs": [
    {
     "data": {
      "text/html": [
       "<div>\n",
       "<style scoped>\n",
       "    .dataframe tbody tr th:only-of-type {\n",
       "        vertical-align: middle;\n",
       "    }\n",
       "\n",
       "    .dataframe tbody tr th {\n",
       "        vertical-align: top;\n",
       "    }\n",
       "\n",
       "    .dataframe thead th {\n",
       "        text-align: right;\n",
       "    }\n",
       "</style>\n",
       "<table border=\"1\" class=\"dataframe\">\n",
       "  <thead>\n",
       "    <tr style=\"text-align: right;\">\n",
       "      <th></th>\n",
       "      <th>product</th>\n",
       "      <th>brand</th>\n",
       "      <th>category</th>\n",
       "      <th>subcategory</th>\n",
       "      <th>variant</th>\n",
       "      <th>rating</th>\n",
       "      <th>date</th>\n",
       "      <th>year</th>\n",
       "      <th>month</th>\n",
       "      <th>day</th>\n",
       "      <th>year_rating</th>\n",
       "      <th>month_rating</th>\n",
       "    </tr>\n",
       "  </thead>\n",
       "  <tbody>\n",
       "    <tr>\n",
       "      <td>0</td>\n",
       "      <td>P-11284</td>\n",
       "      <td>B-2984</td>\n",
       "      <td>computers</td>\n",
       "      <td>network components</td>\n",
       "      <td>routers</td>\n",
       "      <td>4.3</td>\n",
       "      <td>2018-01-12</td>\n",
       "      <td>2018</td>\n",
       "      <td>1</td>\n",
       "      <td>4</td>\n",
       "      <td>2022.3</td>\n",
       "      <td>5.3</td>\n",
       "    </tr>\n",
       "    <tr>\n",
       "      <td>1</td>\n",
       "      <td>P-6580</td>\n",
       "      <td>B-1732</td>\n",
       "      <td>jewellery</td>\n",
       "      <td>bangles bracelets armlets</td>\n",
       "      <td>bracelets</td>\n",
       "      <td>3.0</td>\n",
       "      <td>2012-12-20</td>\n",
       "      <td>2012</td>\n",
       "      <td>12</td>\n",
       "      <td>3</td>\n",
       "      <td>2015.0</td>\n",
       "      <td>15.0</td>\n",
       "    </tr>\n",
       "    <tr>\n",
       "      <td>2</td>\n",
       "      <td>P-5843</td>\n",
       "      <td>B-3078</td>\n",
       "      <td>clothing</td>\n",
       "      <td>women s clothing</td>\n",
       "      <td>western wear</td>\n",
       "      <td>1.5</td>\n",
       "      <td>2014-01-12</td>\n",
       "      <td>2014</td>\n",
       "      <td>1</td>\n",
       "      <td>6</td>\n",
       "      <td>2015.5</td>\n",
       "      <td>2.5</td>\n",
       "    </tr>\n",
       "    <tr>\n",
       "      <td>3</td>\n",
       "      <td>P-5334</td>\n",
       "      <td>B-1421</td>\n",
       "      <td>jewellery</td>\n",
       "      <td>necklaces chains</td>\n",
       "      <td>necklaces</td>\n",
       "      <td>3.9</td>\n",
       "      <td>2019-01-12</td>\n",
       "      <td>2019</td>\n",
       "      <td>1</td>\n",
       "      <td>5</td>\n",
       "      <td>2022.9</td>\n",
       "      <td>4.9</td>\n",
       "    </tr>\n",
       "    <tr>\n",
       "      <td>4</td>\n",
       "      <td>P-5586</td>\n",
       "      <td>B-3078</td>\n",
       "      <td>clothing</td>\n",
       "      <td>women s clothing</td>\n",
       "      <td>western wear</td>\n",
       "      <td>1.4</td>\n",
       "      <td>2017-01-12</td>\n",
       "      <td>2017</td>\n",
       "      <td>1</td>\n",
       "      <td>3</td>\n",
       "      <td>2018.4</td>\n",
       "      <td>2.4</td>\n",
       "    </tr>\n",
       "  </tbody>\n",
       "</table>\n",
       "</div>"
      ],
      "text/plain": [
       "   product   brand   category                subcategory       variant  \\\n",
       "0  P-11284  B-2984  computers         network components       routers   \n",
       "1   P-6580  B-1732  jewellery  bangles bracelets armlets     bracelets   \n",
       "2   P-5843  B-3078   clothing           women s clothing  western wear   \n",
       "3   P-5334  B-1421  jewellery           necklaces chains     necklaces   \n",
       "4   P-5586  B-3078   clothing           women s clothing  western wear   \n",
       "\n",
       "   rating       date  year  month  day  year_rating  month_rating  \n",
       "0     4.3 2018-01-12  2018      1    4       2022.3           5.3  \n",
       "1     3.0 2012-12-20  2012     12    3       2015.0          15.0  \n",
       "2     1.5 2014-01-12  2014      1    6       2015.5           2.5  \n",
       "3     3.9 2019-01-12  2019      1    5       2022.9           4.9  \n",
       "4     1.4 2017-01-12  2017      1    3       2018.4           2.4  "
      ]
     },
     "execution_count": 9,
     "metadata": {},
     "output_type": "execute_result"
    }
   ],
   "source": [
    "test.head()"
   ]
  },
  {
   "cell_type": "code",
   "execution_count": 10,
   "metadata": {},
   "outputs": [
    {
     "data": {
      "text/plain": [
       "<matplotlib.collections.PathCollection at 0x1e2b42c5cc8>"
      ]
     },
     "execution_count": 10,
     "metadata": {},
     "output_type": "execute_result"
    },
    {
     "data": {
      "image/png": "[encoded data removed]",
      "text/plain": [
       "<Figure size 432x288 with 1 Axes>"
      ]
     },
     "metadata": {
      "needs_background": "light"
     },
     "output_type": "display_data"
    }
   ],
   "source": [
    "plt.scatter(train['month'],train['price'])"
   ]
  },
  {
   "cell_type": "code",
   "execution_count": 11,
   "metadata": {},
   "outputs": [
    {
     "data": {
      "text/plain": [
       "<matplotlib.axes._subplots.AxesSubplot at 0x1e2b42db7c8>"
      ]
     },
     "execution_count": 11,
     "metadata": {},
     "output_type": "execute_result"
    },
    {
     "data": {
      "image/png": "[encoded data removed]",
      "text/plain": [
       "<Figure size 432x288 with 1 Axes>"
      ]
     },
     "metadata": {
      "needs_background": "light"
     },
     "output_type": "display_data"
    }
   ],
   "source": [
    "train['category'].value_counts()[:20].plot(kind='bar')"
   ]
  },
  {
   "cell_type": "code",
   "execution_count": 12,
   "metadata": {},
   "outputs": [
    {
     "data": {
      "image/png": "[encoded data removed]",
      "text/plain": [
       "<Figure size 720x288 with 2 Axes>"
      ]
     },
     "metadata": {
      "needs_background": "light"
     },
     "output_type": "display_data"
    },
    {
     "data": {
      "image/png": "[encoded data removed]",
      "text/plain": [
       "<Figure size 720x288 with 2 Axes>"
      ]
     },
     "metadata": {
      "needs_background": "light"
     },
     "output_type": "display_data"
    },
    {
     "data": {
      "image/png": "[encoded data removed]",
      "text/plain": [
       "<Figure size 432x288 with 1 Axes>"
      ]
     },
     "metadata": {
      "needs_background": "light"
     },
     "output_type": "display_data"
    }
   ],
   "source": [
    "# Function to perform univariate analysis of categorical columns\n",
    "def plot_categorical_columns(dataframe):\n",
    "    categorical_columns = dataframe.select_dtypes(include=['object']).columns\n",
    "    \n",
    "    for i in range(0,len(categorical_columns),2):\n",
    "            if len(categorical_columns) > i+1:\n",
    "                \n",
    "                plt.figure(figsize=(10,4))\n",
    "                plt.subplot(121)\n",
    "                dataframe[categorical_columns[i]].value_counts()[:20].plot(kind='bar')\n",
    "                plt.title(categorical_columns[i])\n",
    "                plt.subplot(122)     \n",
    "                dataframe[categorical_columns[i+1]].value_counts()[:20].plot(kind='bar')\n",
    "                plt.title(categorical_columns[i+1])\n",
    "                plt.tight_layout()\n",
    "                plt.show()\n",
    "\n",
    "            else:\n",
    "                dataframe[categorical_columns[i]].value_counts()[:20].plot(kind='bar')\n",
    "                plt.title(categorical_columns[i])\n",
    "        \n",
    "                \n",
    "plot = plot_categorical_columns(train)"
   ]
  },
  {
   "cell_type": "markdown",
   "metadata": {},
   "source": [
    "## Modelling & Feature Engineering"
   ]
  },
  {
   "cell_type": "markdown",
   "metadata": {},
   "source": [
    "####  I found a wonderful blog/kaggle kernel on handling high cardinality categorical variables.below code was used from that kaggle kernel.\n",
    "#### mean encoding on cateorical variables gave me a very good boost in my cv score. I had also tried frequency & median encoding.\n",
    "\n",
    "#### Link to the kernel :- https://www.kaggle.com/vprokopev/mean-likelihood-encodings-a-comprehensive-study"
   ]
  },
  {
   "cell_type": "code",
   "execution_count": 15,
   "metadata": {},
   "outputs": [],
   "source": [
    "def mean_encode(train_data, test_data, columns, target_col, reg_method=None,\n",
    "                alpha=5, add_random=False, rmean=0, rstd=0.1, folds=1):\n",
    "    '''Returns a DataFrame with encoded columns'''\n",
    "    encoded_cols = []\n",
    "    target_mean_global = train_data[target_col].mean()\n",
    "    for col in columns:\n",
    "        # Getting means for test data\n",
    "        nrows_cat = train_data.groupby(col)[target_col].count()\n",
    "        target_means_cats = train_data.groupby(col)[target_col].mean()\n",
    "        target_means_cats_adj = (target_means_cats*nrows_cat + \n",
    "                                 target_mean_global*alpha)/(nrows_cat+alpha)\n",
    "        # Mapping means to test data\n",
    "        encoded_col_test = test_data[col].map(target_means_cats_adj)\n",
    "        # Getting a train encodings\n",
    "        if reg_method == 'expanding_mean':\n",
    "            train_data_shuffled = train_data.sample(frac=1, random_state=1)\n",
    "            cumsum = train_data_shuffled.groupby(col)[target_col].cumsum() - train_data_shuffled[target_col]\n",
    "            cumcnt = train_data_shuffled.groupby(col).cumcount()\n",
    "            encoded_col_train = cumsum/(cumcnt)\n",
    "            encoded_col_train.fillna(target_mean_global, inplace=True)\n",
    "            if add_random:\n",
    "                encoded_col_train = encoded_col_train + normal(loc=rmean, scale=rstd, \n",
    "                                                               size=(encoded_col_train.shape[0]))\n",
    "        elif (reg_method == 'k_fold') and (folds > 1):\n",
    "            kfold = KFold( n_splits = 10, shuffle = False)\n",
    "            parts = []\n",
    "            for tr_in, val_ind in kfold.split(train_data):\n",
    "                # divide data\n",
    "                df_for_estimation, df_estimated = train_data.iloc[tr_in], train_data.iloc[val_ind]\n",
    "                # getting means on data for estimation (all folds except estimated)\n",
    "                nrows_cat = df_for_estimation.groupby(col)[target_col].count()\n",
    "                target_means_cats = df_for_estimation.groupby(col)[target_col].mean()\n",
    "                target_means_cats_adj = (target_means_cats*nrows_cat + \n",
    "                                         target_mean_global*alpha)/(nrows_cat+alpha)\n",
    "                # Mapping means to estimated fold\n",
    "                encoded_col_train_part = df_estimated[col].map(target_means_cats_adj)\n",
    "                if add_random:\n",
    "                    encoded_col_train_part = encoded_col_train_part + normal(loc=rmean, scale=rstd, \n",
    "                                                                             size=(encoded_col_train_part.shape[0]))\n",
    "                # Saving estimated encodings for a fold\n",
    "                parts.append(encoded_col_train_part)\n",
    "            encoded_col_train = pd.concat(parts, axis=0)\n",
    "            encoded_col_train.fillna(target_mean_global, inplace=True)\n",
    "        else:\n",
    "            encoded_col_train = train_data[col].map(target_means_cats_adj)\n",
    "            if add_random:\n",
    "                encoded_col_train = encoded_col_train + normal(loc=rmean, scale=rstd, \n",
    "                                                               size=(encoded_col_train.shape[0]))\n",
    "\n",
    "        # Saving the column with means\n",
    "        encoded_col = pd.concat([encoded_col_train, encoded_col_test], axis=0)\n",
    "        encoded_col[encoded_col.isnull()] = target_mean_global\n",
    "        encoded_cols.append(pd.DataFrame({'mean_'+target_col+'_'+col:encoded_col}))\n",
    "    all_encoded = pd.concat(encoded_cols, axis=1)\n",
    "    return all_encoded"
   ]
  },
  {
   "cell_type": "code",
   "execution_count": 16,
   "metadata": {},
   "outputs": [],
   "source": [
    "cols = ['brand','category','subcategory','variant','rating','month_rating']\n",
    "target = 'price'\n",
    "finaldf = mean_encode(train,test,cols,target,reg_method='k_fold',folds=5)"
   ]
  },
  {
   "cell_type": "code",
   "execution_count": 17,
   "metadata": {},
   "outputs": [
    {
     "data": {
      "text/plain": [
       "(3503, 6)"
      ]
     },
     "execution_count": 17,
     "metadata": {},
     "output_type": "execute_result"
    }
   ],
   "source": [
    "finaldf.shape"
   ]
  },
  {
   "cell_type": "code",
   "execution_count": 18,
   "metadata": {},
   "outputs": [],
   "source": [
    "train_encoded = finaldf.iloc[0:2452,:]"
   ]
  },
  {
   "cell_type": "code",
   "execution_count": 19,
   "metadata": {},
   "outputs": [
    {
     "data": {
      "text/plain": [
       "(2452, 6)"
      ]
     },
     "execution_count": 19,
     "metadata": {},
     "output_type": "execute_result"
    }
   ],
   "source": [
    "train_encoded.shape"
   ]
  },
  {
   "cell_type": "code",
   "execution_count": 20,
   "metadata": {},
   "outputs": [],
   "source": [
    "test_encoded = finaldf.iloc[2452:,:]"
   ]
  },
  {
   "cell_type": "code",
   "execution_count": 21,
   "metadata": {},
   "outputs": [
    {
     "data": {
      "text/plain": [
       "(1051, 6)"
      ]
     },
     "execution_count": 21,
     "metadata": {},
     "output_type": "execute_result"
    }
   ],
   "source": [
    "test_encoded.shape"
   ]
  },
  {
   "cell_type": "code",
   "execution_count": 22,
   "metadata": {},
   "outputs": [
    {
     "data": {
      "text/html": [
       "<div>\n",
       "<style scoped>\n",
       "    .dataframe tbody tr th:only-of-type {\n",
       "        vertical-align: middle;\n",
       "    }\n",
       "\n",
       "    .dataframe tbody tr th {\n",
       "        vertical-align: top;\n",
       "    }\n",
       "\n",
       "    .dataframe thead th {\n",
       "        text-align: right;\n",
       "    }\n",
       "</style>\n",
       "<table border=\"1\" class=\"dataframe\">\n",
       "  <thead>\n",
       "    <tr style=\"text-align: right;\">\n",
       "      <th></th>\n",
       "      <th>mean_price_brand</th>\n",
       "      <th>mean_price_category</th>\n",
       "      <th>mean_price_subcategory</th>\n",
       "      <th>mean_price_variant</th>\n",
       "      <th>mean_price_rating</th>\n",
       "      <th>mean_price_month_rating</th>\n",
       "    </tr>\n",
       "  </thead>\n",
       "  <tbody>\n",
       "    <tr>\n",
       "      <td>0</td>\n",
       "      <td>2494.375612</td>\n",
       "      <td>1951.253284</td>\n",
       "      <td>1608.237174</td>\n",
       "      <td>2224.117379</td>\n",
       "      <td>1873.886953</td>\n",
       "      <td>2107.271003</td>\n",
       "    </tr>\n",
       "    <tr>\n",
       "      <td>1</td>\n",
       "      <td>800.592457</td>\n",
       "      <td>716.976628</td>\n",
       "      <td>652.050879</td>\n",
       "      <td>690.840494</td>\n",
       "      <td>2940.965214</td>\n",
       "      <td>1309.682928</td>\n",
       "    </tr>\n",
       "    <tr>\n",
       "      <td>2</td>\n",
       "      <td>2135.313010</td>\n",
       "      <td>1516.033081</td>\n",
       "      <td>1863.761119</td>\n",
       "      <td>1741.757533</td>\n",
       "      <td>2313.876940</td>\n",
       "      <td>2855.342524</td>\n",
       "    </tr>\n",
       "    <tr>\n",
       "      <td>3</td>\n",
       "      <td>800.592457</td>\n",
       "      <td>736.335709</td>\n",
       "      <td>2244.479676</td>\n",
       "      <td>2494.375612</td>\n",
       "      <td>2390.033081</td>\n",
       "      <td>1746.475122</td>\n",
       "    </tr>\n",
       "    <tr>\n",
       "      <td>4</td>\n",
       "      <td>800.592457</td>\n",
       "      <td>716.976628</td>\n",
       "      <td>903.053482</td>\n",
       "      <td>692.431301</td>\n",
       "      <td>1873.886953</td>\n",
       "      <td>1526.463415</td>\n",
       "    </tr>\n",
       "    <tr>\n",
       "      <td>5</td>\n",
       "      <td>2494.375612</td>\n",
       "      <td>1516.033081</td>\n",
       "      <td>1575.676275</td>\n",
       "      <td>1594.919861</td>\n",
       "      <td>1616.931520</td>\n",
       "      <td>5290.888319</td>\n",
       "    </tr>\n",
       "    <tr>\n",
       "      <td>6</td>\n",
       "      <td>800.592457</td>\n",
       "      <td>1128.379858</td>\n",
       "      <td>1014.792557</td>\n",
       "      <td>1431.331566</td>\n",
       "      <td>2156.281301</td>\n",
       "      <td>4065.658537</td>\n",
       "    </tr>\n",
       "  </tbody>\n",
       "</table>\n",
       "</div>"
      ],
      "text/plain": [
       "   mean_price_brand  mean_price_category  mean_price_subcategory  \\\n",
       "0       2494.375612          1951.253284             1608.237174   \n",
       "1        800.592457           716.976628              652.050879   \n",
       "2       2135.313010          1516.033081             1863.761119   \n",
       "3        800.592457           736.335709             2244.479676   \n",
       "4        800.592457           716.976628              903.053482   \n",
       "5       2494.375612          1516.033081             1575.676275   \n",
       "6        800.592457          1128.379858             1014.792557   \n",
       "\n",
       "   mean_price_variant  mean_price_rating  mean_price_month_rating  \n",
       "0         2224.117379        1873.886953              2107.271003  \n",
       "1          690.840494        2940.965214              1309.682928  \n",
       "2         1741.757533        2313.876940              2855.342524  \n",
       "3         2494.375612        2390.033081              1746.475122  \n",
       "4          692.431301        1873.886953              1526.463415  \n",
       "5         1594.919861        1616.931520              5290.888319  \n",
       "6         1431.331566        2156.281301              4065.658537  "
      ]
     },
     "execution_count": 22,
     "metadata": {},
     "output_type": "execute_result"
    }
   ],
   "source": [
    "train_encoded.head(7)"
   ]
  },
  {
   "cell_type": "code",
   "execution_count": 23,
   "metadata": {},
   "outputs": [
    {
     "data": {
      "text/html": [
       "<div>\n",
       "<style scoped>\n",
       "    .dataframe tbody tr th:only-of-type {\n",
       "        vertical-align: middle;\n",
       "    }\n",
       "\n",
       "    .dataframe tbody tr th {\n",
       "        vertical-align: top;\n",
       "    }\n",
       "\n",
       "    .dataframe thead th {\n",
       "        text-align: right;\n",
       "    }\n",
       "</style>\n",
       "<table border=\"1\" class=\"dataframe\">\n",
       "  <thead>\n",
       "    <tr style=\"text-align: right;\">\n",
       "      <th></th>\n",
       "      <th>mean_price_brand</th>\n",
       "      <th>mean_price_category</th>\n",
       "      <th>mean_price_subcategory</th>\n",
       "      <th>mean_price_variant</th>\n",
       "      <th>mean_price_rating</th>\n",
       "      <th>mean_price_month_rating</th>\n",
       "    </tr>\n",
       "  </thead>\n",
       "  <tbody>\n",
       "    <tr>\n",
       "      <td>0</td>\n",
       "      <td>2304.268294</td>\n",
       "      <td>2142.035579</td>\n",
       "      <td>3442.061235</td>\n",
       "      <td>3509.801697</td>\n",
       "      <td>1716.958922</td>\n",
       "      <td>2349.375083</td>\n",
       "    </tr>\n",
       "    <tr>\n",
       "      <td>1</td>\n",
       "      <td>2494.375612</td>\n",
       "      <td>8172.371543</td>\n",
       "      <td>1046.949732</td>\n",
       "      <td>1778.558689</td>\n",
       "      <td>3102.076338</td>\n",
       "      <td>1449.072233</td>\n",
       "    </tr>\n",
       "    <tr>\n",
       "      <td>2</td>\n",
       "      <td>793.139795</td>\n",
       "      <td>713.931964</td>\n",
       "      <td>649.613052</td>\n",
       "      <td>673.940728</td>\n",
       "      <td>2317.580270</td>\n",
       "      <td>2183.726079</td>\n",
       "    </tr>\n",
       "    <tr>\n",
       "      <td>3</td>\n",
       "      <td>1567.430895</td>\n",
       "      <td>8172.371543</td>\n",
       "      <td>574.053806</td>\n",
       "      <td>572.453240</td>\n",
       "      <td>1053.722035</td>\n",
       "      <td>1361.610695</td>\n",
       "    </tr>\n",
       "    <tr>\n",
       "      <td>4</td>\n",
       "      <td>793.139795</td>\n",
       "      <td>713.931964</td>\n",
       "      <td>649.613052</td>\n",
       "      <td>673.940728</td>\n",
       "      <td>2349.265680</td>\n",
       "      <td>3956.937670</td>\n",
       "    </tr>\n",
       "    <tr>\n",
       "      <td>5</td>\n",
       "      <td>793.139795</td>\n",
       "      <td>713.931964</td>\n",
       "      <td>649.613052</td>\n",
       "      <td>673.940728</td>\n",
       "      <td>3891.947086</td>\n",
       "      <td>3716.082230</td>\n",
       "    </tr>\n",
       "    <tr>\n",
       "      <td>6</td>\n",
       "      <td>1907.982580</td>\n",
       "      <td>2272.875038</td>\n",
       "      <td>3510.830430</td>\n",
       "      <td>1705.734757</td>\n",
       "      <td>4285.935595</td>\n",
       "      <td>1381.204108</td>\n",
       "    </tr>\n",
       "  </tbody>\n",
       "</table>\n",
       "</div>"
      ],
      "text/plain": [
       "   mean_price_brand  mean_price_category  mean_price_subcategory  \\\n",
       "0       2304.268294          2142.035579             3442.061235   \n",
       "1       2494.375612          8172.371543             1046.949732   \n",
       "2        793.139795           713.931964              649.613052   \n",
       "3       1567.430895          8172.371543              574.053806   \n",
       "4        793.139795           713.931964              649.613052   \n",
       "5        793.139795           713.931964              649.613052   \n",
       "6       1907.982580          2272.875038             3510.830430   \n",
       "\n",
       "   mean_price_variant  mean_price_rating  mean_price_month_rating  \n",
       "0         3509.801697        1716.958922              2349.375083  \n",
       "1         1778.558689        3102.076338              1449.072233  \n",
       "2          673.940728        2317.580270              2183.726079  \n",
       "3          572.453240        1053.722035              1361.610695  \n",
       "4          673.940728        2349.265680              3956.937670  \n",
       "5          673.940728        3891.947086              3716.082230  \n",
       "6         1705.734757        4285.935595              1381.204108  "
      ]
     },
     "execution_count": 23,
     "metadata": {},
     "output_type": "execute_result"
    }
   ],
   "source": [
    "test_encoded.head(7)"
   ]
  },
  {
   "cell_type": "code",
   "execution_count": 24,
   "metadata": {},
   "outputs": [],
   "source": [
    "train_encoded = pd.concat([train_encoded,train['month']],axis=1)\n",
    "test_encoded = pd.concat([test_encoded,test['month']],axis=1)"
   ]
  },
  {
   "cell_type": "code",
   "execution_count": 25,
   "metadata": {},
   "outputs": [],
   "source": [
    "X = train_encoded.copy()\n",
    "y = train['price']\n",
    "Xt = test_encoded.copy()"
   ]
  },
  {
   "cell_type": "code",
   "execution_count": 26,
   "metadata": {},
   "outputs": [],
   "source": [
    "features = [c for c in X.columns]"
   ]
  },
  {
   "cell_type": "code",
   "execution_count": 27,
   "metadata": {},
   "outputs": [
    {
     "data": {
      "text/plain": [
       "['mean_price_brand',\n",
       " 'mean_price_category',\n",
       " 'mean_price_subcategory',\n",
       " 'mean_price_variant',\n",
       " 'mean_price_rating',\n",
       " 'mean_price_month_rating',\n",
       " 'month']"
      ]
     },
     "execution_count": 27,
     "metadata": {},
     "output_type": "execute_result"
    }
   ],
   "source": [
    "features"
   ]
  },
  {
   "cell_type": "markdown",
   "metadata": {},
   "source": [
    "## Light GBM Regressor"
   ]
  },
  {
   "cell_type": "code",
   "execution_count": 28,
   "metadata": {},
   "outputs": [
    {
     "name": "stdout",
     "output_type": "stream",
     "text": [
      "\n",
      "---- Fold 0 -----\n",
      "\n",
      "7 7\n",
      "Training until validation scores don't improve for 100 rounds\n",
      "[100]\tvalid_0's rmse: 0.685023\tvalid_0's l2: 0.469257\n",
      "[200]\tvalid_0's rmse: 0.649773\tvalid_0's l2: 0.422204\n",
      "[300]\tvalid_0's rmse: 0.644499\tvalid_0's l2: 0.415379\n",
      "[400]\tvalid_0's rmse: 0.64479\tvalid_0's l2: 0.415755\n",
      "Early stopping, best iteration is:\n",
      "[325]\tvalid_0's rmse: 0.643809\tvalid_0's l2: 0.41449\n",
      "\n",
      " Fold 0.6438086113754323\n",
      "\n",
      "---- Fold 1 -----\n",
      "\n",
      "7 7\n",
      "Training until validation scores don't improve for 100 rounds\n",
      "[100]\tvalid_0's rmse: 0.764383\tvalid_0's l2: 0.584282\n",
      "[200]\tvalid_0's rmse: 0.743463\tvalid_0's l2: 0.552737\n",
      "Early stopping, best iteration is:\n",
      "[181]\tvalid_0's rmse: 0.742942\tvalid_0's l2: 0.551962\n",
      "\n",
      " Fold 0.7429415390903663\n",
      "\n",
      "---- Fold 2 -----\n",
      "\n",
      "7 7\n",
      "Training until validation scores don't improve for 100 rounds\n",
      "[100]\tvalid_0's rmse: 0.661734\tvalid_0's l2: 0.437892\n",
      "[200]\tvalid_0's rmse: 0.617006\tvalid_0's l2: 0.380696\n",
      "[300]\tvalid_0's rmse: 0.615949\tvalid_0's l2: 0.379394\n",
      "[400]\tvalid_0's rmse: 0.616744\tvalid_0's l2: 0.380373\n",
      "Early stopping, best iteration is:\n",
      "[334]\tvalid_0's rmse: 0.614976\tvalid_0's l2: 0.378195\n",
      "\n",
      " Fold 0.6149756928061665\n",
      "\n",
      "---- Fold 3 -----\n",
      "\n",
      "7 7\n",
      "Training until validation scores don't improve for 100 rounds\n",
      "[100]\tvalid_0's rmse: 0.6268\tvalid_0's l2: 0.392878\n",
      "[200]\tvalid_0's rmse: 0.599495\tvalid_0's l2: 0.359394\n",
      "Early stopping, best iteration is:\n",
      "[187]\tvalid_0's rmse: 0.598765\tvalid_0's l2: 0.35852\n",
      "\n",
      " Fold 0.5987651055057192\n",
      "\n",
      "---- Fold 4 -----\n",
      "\n",
      "7 7\n",
      "Training until validation scores don't improve for 100 rounds\n",
      "[100]\tvalid_0's rmse: 0.706458\tvalid_0's l2: 0.499082\n",
      "[200]\tvalid_0's rmse: 0.6665\tvalid_0's l2: 0.444222\n",
      "[300]\tvalid_0's rmse: 0.661203\tvalid_0's l2: 0.43719\n",
      "[400]\tvalid_0's rmse: 0.661261\tvalid_0's l2: 0.437266\n",
      "Early stopping, best iteration is:\n",
      "[325]\tvalid_0's rmse: 0.660535\tvalid_0's l2: 0.436307\n",
      "\n",
      " Fold 0.6605353879556222\n",
      "\n",
      "---- Fold 5 -----\n",
      "\n",
      "7 7\n",
      "Training until validation scores don't improve for 100 rounds\n",
      "[100]\tvalid_0's rmse: 0.631815\tvalid_0's l2: 0.39919\n",
      "[200]\tvalid_0's rmse: 0.581592\tvalid_0's l2: 0.338249\n",
      "[300]\tvalid_0's rmse: 0.57532\tvalid_0's l2: 0.330993\n",
      "[400]\tvalid_0's rmse: 0.574619\tvalid_0's l2: 0.330186\n",
      "Early stopping, best iteration is:\n",
      "[380]\tvalid_0's rmse: 0.573258\tvalid_0's l2: 0.328624\n",
      "\n",
      " Fold 0.5732576083149746\n",
      "\n",
      "---- Fold 6 -----\n",
      "\n",
      "7 7\n",
      "Training until validation scores don't improve for 100 rounds\n",
      "[100]\tvalid_0's rmse: 0.651628\tvalid_0's l2: 0.42462\n",
      "[200]\tvalid_0's rmse: 0.618805\tvalid_0's l2: 0.38292\n",
      "[300]\tvalid_0's rmse: 0.617689\tvalid_0's l2: 0.381539\n",
      "Early stopping, best iteration is:\n",
      "[233]\tvalid_0's rmse: 0.615776\tvalid_0's l2: 0.37918\n",
      "\n",
      " Fold 0.6157756319623224\n",
      "\n",
      "---- Fold 7 -----\n",
      "\n",
      "7 7\n",
      "Training until validation scores don't improve for 100 rounds\n",
      "[100]\tvalid_0's rmse: 0.703101\tvalid_0's l2: 0.494351\n",
      "[200]\tvalid_0's rmse: 0.659354\tvalid_0's l2: 0.434747\n",
      "[300]\tvalid_0's rmse: 0.658872\tvalid_0's l2: 0.434112\n",
      "[400]\tvalid_0's rmse: 0.659153\tvalid_0's l2: 0.434483\n",
      "Early stopping, best iteration is:\n",
      "[328]\tvalid_0's rmse: 0.657742\tvalid_0's l2: 0.432625\n",
      "\n",
      " Fold 0.657742183816436\n",
      "\n",
      "---- Fold 8 -----\n",
      "\n",
      "7 7\n",
      "Training until validation scores don't improve for 100 rounds\n",
      "[100]\tvalid_0's rmse: 0.682484\tvalid_0's l2: 0.465785\n",
      "[200]\tvalid_0's rmse: 0.65004\tvalid_0's l2: 0.422552\n",
      "[300]\tvalid_0's rmse: 0.648838\tvalid_0's l2: 0.42099\n",
      "Early stopping, best iteration is:\n",
      "[284]\tvalid_0's rmse: 0.648312\tvalid_0's l2: 0.420309\n",
      "\n",
      " Fold 0.6483123599465191\n",
      "\n",
      "---- Fold 9 -----\n",
      "\n",
      "7 7\n",
      "Training until validation scores don't improve for 100 rounds\n",
      "[100]\tvalid_0's rmse: 0.685703\tvalid_0's l2: 0.470188\n",
      "[200]\tvalid_0's rmse: 0.651163\tvalid_0's l2: 0.424014\n",
      "[300]\tvalid_0's rmse: 0.646997\tvalid_0's l2: 0.418605\n",
      "Early stopping, best iteration is:\n",
      "[264]\tvalid_0's rmse: 0.645924\tvalid_0's l2: 0.417218\n",
      "\n",
      " Fold 0.6459239434371522\n",
      "\n",
      "OOF val score: 0.641717369371638\n",
      "Mean rmsle: 0.6402 and std Dev. is 0.04 \n",
      "\n"
     ]
    }
   ],
   "source": [
    "training_start_time = time.time()\n",
    "\n",
    "rmsle = list()\n",
    "max_iter = 10\n",
    "folds = StratifiedKFold(n_splits = max_iter)\n",
    "oofs = np.zeros(len(X))\n",
    "test_preds = np.zeros(len(Xt))\n",
    "\n",
    "\n",
    "for fold_, (trn_idx, val_idx) in enumerate(folds.split(X, pd.qcut(y, 10, labels=False, duplicates='drop'))):\n",
    "    \n",
    "    print(f'\\n---- Fold {fold_} -----\\n')\n",
    "    \n",
    "    X_trn, y_trn = X.iloc[trn_idx][features], y.iloc[trn_idx]\n",
    "    X_val, y_val = X.iloc[val_idx][features], y.iloc[val_idx]\n",
    "    X_test = Xt[features]\n",
    "     \n",
    "    lgbm = LGBMRegressor(n_estimators=1000, num_leaves=127, max_depth=-1,min_child_samples=4, learning_rate=0.02, colsample_bytree=0.4, reg_alpha=0.5, reg_lambda=2)\n",
    "    _ = lgbm.fit(X_trn, np.log(y_trn), eval_set = [(X_val, np.log(y_val))], verbose=100, early_stopping_rounds=100, eval_metric='rmse')\n",
    "\n",
    "    oofs[val_idx] = np.exp(lgbm.predict(X_val))\n",
    "    current_test_pred = np.exp(lgbm.predict(X_test))\n",
    "    test_preds += np.exp(lgbm.predict(X_test))/max_iter\n",
    "    \n",
    "    print(f'\\n Fold {rmse(np.log(y_val), np.log(oofs[val_idx]))}')\n",
    "    rmsle = np.append(rmsle, rmse(np.log(y_val), np.log(oofs[val_idx])))\n",
    "    \n",
    "    \n",
    "print(f'\\nOOF val score: {rmse(np.log(y), np.log(oofs))}')\n",
    "print(f'Mean rmsle: {np.mean(rmsle):.4f} and std Dev. is {np.std(rmsle):.2f} \\n')"
   ]
  },
  {
   "cell_type": "code",
   "execution_count": 29,
   "metadata": {},
   "outputs": [],
   "source": [
    "vp0, tp0 = oofs, test_preds"
   ]
  },
  {
   "cell_type": "code",
   "execution_count": 30,
   "metadata": {},
   "outputs": [
    {
     "data": {
      "text/plain": [
       "count     1051.000000\n",
       "mean      1710.157467\n",
       "std       4480.112459\n",
       "min        199.861497\n",
       "25%        534.847057\n",
       "50%        706.934158\n",
       "75%        998.171953\n",
       "max      36552.143581\n",
       "Name: Selling_Price, dtype: float64"
      ]
     },
     "execution_count": 30,
     "metadata": {},
     "output_type": "execute_result"
    }
   ],
   "source": [
    "sub = pd.DataFrame({'Selling_Price': tp0})\n",
    "sub['Selling_Price'] = np.clip(sub['Selling_Price'], y.min(), y.max())\n",
    "sub['Selling_Price'].describe()"
   ]
  },
  {
   "cell_type": "code",
   "execution_count": 31,
   "metadata": {},
   "outputs": [
    {
     "data": {
      "text/html": [
       "<div>\n",
       "<style scoped>\n",
       "    .dataframe tbody tr th:only-of-type {\n",
       "        vertical-align: middle;\n",
       "    }\n",
       "\n",
       "    .dataframe tbody tr th {\n",
       "        vertical-align: top;\n",
       "    }\n",
       "\n",
       "    .dataframe thead th {\n",
       "        text-align: right;\n",
       "    }\n",
       "</style>\n",
       "<table border=\"1\" class=\"dataframe\">\n",
       "  <thead>\n",
       "    <tr style=\"text-align: right;\">\n",
       "      <th></th>\n",
       "      <th>Selling_Price</th>\n",
       "    </tr>\n",
       "  </thead>\n",
       "  <tbody>\n",
       "    <tr>\n",
       "      <td>0</td>\n",
       "      <td>2591.405423</td>\n",
       "    </tr>\n",
       "    <tr>\n",
       "      <td>1</td>\n",
       "      <td>596.874595</td>\n",
       "    </tr>\n",
       "    <tr>\n",
       "      <td>2</td>\n",
       "      <td>613.302248</td>\n",
       "    </tr>\n",
       "    <tr>\n",
       "      <td>3</td>\n",
       "      <td>371.213125</td>\n",
       "    </tr>\n",
       "    <tr>\n",
       "      <td>4</td>\n",
       "      <td>568.792021</td>\n",
       "    </tr>\n",
       "    <tr>\n",
       "      <td>5</td>\n",
       "      <td>521.485211</td>\n",
       "    </tr>\n",
       "    <tr>\n",
       "      <td>6</td>\n",
       "      <td>753.846968</td>\n",
       "    </tr>\n",
       "    <tr>\n",
       "      <td>7</td>\n",
       "      <td>20401.127038</td>\n",
       "    </tr>\n",
       "    <tr>\n",
       "      <td>8</td>\n",
       "      <td>26538.681774</td>\n",
       "    </tr>\n",
       "    <tr>\n",
       "      <td>9</td>\n",
       "      <td>334.034608</td>\n",
       "    </tr>\n",
       "  </tbody>\n",
       "</table>\n",
       "</div>"
      ],
      "text/plain": [
       "   Selling_Price\n",
       "0    2591.405423\n",
       "1     596.874595\n",
       "2     613.302248\n",
       "3     371.213125\n",
       "4     568.792021\n",
       "5     521.485211\n",
       "6     753.846968\n",
       "7   20401.127038\n",
       "8   26538.681774\n",
       "9     334.034608"
      ]
     },
     "execution_count": 31,
     "metadata": {},
     "output_type": "execute_result"
    }
   ],
   "source": [
    "sub.head(10)"
   ]
  },
  {
   "cell_type": "code",
   "execution_count": 32,
   "metadata": {},
   "outputs": [],
   "source": [
    "sub.to_excel(mean_encoding_lgbm2.xlsx, index=False)"
   ]
  },
  {
   "cell_type": "code",
   "execution_count": 33,
   "metadata": {},
   "outputs": [
    {
     "data": {
      "text/html": [
       "<div>\n",
       "<style scoped>\n",
       "    .dataframe tbody tr th:only-of-type {\n",
       "        vertical-align: middle;\n",
       "    }\n",
       "\n",
       "    .dataframe tbody tr th {\n",
       "        vertical-align: top;\n",
       "    }\n",
       "\n",
       "    .dataframe thead th {\n",
       "        text-align: right;\n",
       "    }\n",
       "</style>\n",
       "<table border=\"1\" class=\"dataframe\">\n",
       "  <thead>\n",
       "    <tr style=\"text-align: right;\">\n",
       "      <th></th>\n",
       "      <th>columns</th>\n",
       "      <th>feature_importance</th>\n",
       "    </tr>\n",
       "  </thead>\n",
       "  <tbody>\n",
       "    <tr>\n",
       "      <td>0</td>\n",
       "      <td>mean_price_brand</td>\n",
       "      <td>4197</td>\n",
       "    </tr>\n",
       "    <tr>\n",
       "      <td>1</td>\n",
       "      <td>mean_price_category</td>\n",
       "      <td>5015</td>\n",
       "    </tr>\n",
       "    <tr>\n",
       "      <td>2</td>\n",
       "      <td>mean_price_subcategory</td>\n",
       "      <td>4942</td>\n",
       "    </tr>\n",
       "    <tr>\n",
       "      <td>3</td>\n",
       "      <td>mean_price_variant</td>\n",
       "      <td>4996</td>\n",
       "    </tr>\n",
       "    <tr>\n",
       "      <td>4</td>\n",
       "      <td>mean_price_rating</td>\n",
       "      <td>5422</td>\n",
       "    </tr>\n",
       "    <tr>\n",
       "      <td>5</td>\n",
       "      <td>mean_price_month_rating</td>\n",
       "      <td>6035</td>\n",
       "    </tr>\n",
       "    <tr>\n",
       "      <td>6</td>\n",
       "      <td>month</td>\n",
       "      <td>2657</td>\n",
       "    </tr>\n",
       "  </tbody>\n",
       "</table>\n",
       "</div>"
      ],
      "text/plain": [
       "                   columns  feature_importance\n",
       "0         mean_price_brand                4197\n",
       "1      mean_price_category                5015\n",
       "2   mean_price_subcategory                4942\n",
       "3       mean_price_variant                4996\n",
       "4        mean_price_rating                5422\n",
       "5  mean_price_month_rating                6035\n",
       "6                    month                2657"
      ]
     },
     "execution_count": 33,
     "metadata": {},
     "output_type": "execute_result"
    }
   ],
   "source": [
    "feat_imp = pd.DataFrame({'columns':X.columns,'feature_importance':lgbm.feature_importances_})\n",
    "feat_imp"
   ]
  },
  {
   "cell_type": "markdown",
   "metadata": {},
   "source": [
    "## XGboost Regressor"
   ]
  },
  {
   "cell_type": "code",
   "execution_count": 34,
   "metadata": {},
   "outputs": [
    {
     "name": "stdout",
     "output_type": "stream",
     "text": [
      "\n",
      "---- Fold 0 -----\n",
      "\n",
      "7 7\n",
      "[14:23:21] WARNING: C:/Jenkins/workspace/xgboost-win64_release_0.90/src/objective/regression_obj.cu:152: reg:linear is now deprecated in favor of reg:squarederror.\n",
      "[0]\tvalidation_0-rmse:6.01393\n",
      "Will train until validation_0-rmse hasn't improved in 100 rounds.\n"
     ]
    },
    {
     "name": "stderr",
     "output_type": "stream",
     "text": [
      "C:\\Users\\RAKESH\\Anaconda3\\lib\\site-packages\\xgboost\\core.py:587: FutureWarning: Series.base is deprecated and will be removed in a future version\n",
      "  if getattr(data, 'base', None) is not None and \\\n"
     ]
    },
    {
     "name": "stdout",
     "output_type": "stream",
     "text": [
      "[100]\tvalidation_0-rmse:0.665552\n",
      "[200]\tvalidation_0-rmse:0.664685\n",
      "Stopping. Best iteration:\n",
      "[122]\tvalidation_0-rmse:0.661622\n",
      "\n",
      "\n",
      " Fold 0.6616217009941979\n",
      "\n",
      "---- Fold 1 -----\n",
      "\n",
      "7 7\n",
      "[14:23:22] WARNING: C:/Jenkins/workspace/xgboost-win64_release_0.90/src/objective/regression_obj.cu:152: reg:linear is now deprecated in favor of reg:squarederror.\n",
      "[0]\tvalidation_0-rmse:5.95612\n",
      "Will train until validation_0-rmse hasn't improved in 100 rounds.\n"
     ]
    },
    {
     "name": "stderr",
     "output_type": "stream",
     "text": [
      "C:\\Users\\RAKESH\\Anaconda3\\lib\\site-packages\\xgboost\\core.py:587: FutureWarning: Series.base is deprecated and will be removed in a future version\n",
      "  if getattr(data, 'base', None) is not None and \\\n"
     ]
    },
    {
     "name": "stdout",
     "output_type": "stream",
     "text": [
      "[100]\tvalidation_0-rmse:0.763839\n",
      "Stopping. Best iteration:\n",
      "[95]\tvalidation_0-rmse:0.762377\n",
      "\n",
      "\n",
      " Fold 0.7623764971509563\n",
      "\n",
      "---- Fold 2 -----\n",
      "\n",
      "7 7\n",
      "[14:23:24] WARNING: C:/Jenkins/workspace/xgboost-win64_release_0.90/src/objective/regression_obj.cu:152: reg:linear is now deprecated in favor of reg:squarederror.\n",
      "[0]\tvalidation_0-rmse:5.94446\n",
      "Will train until validation_0-rmse hasn't improved in 100 rounds.\n"
     ]
    },
    {
     "name": "stderr",
     "output_type": "stream",
     "text": [
      "C:\\Users\\RAKESH\\Anaconda3\\lib\\site-packages\\xgboost\\core.py:587: FutureWarning: Series.base is deprecated and will be removed in a future version\n",
      "  if getattr(data, 'base', None) is not None and \\\n"
     ]
    },
    {
     "name": "stdout",
     "output_type": "stream",
     "text": [
      "[100]\tvalidation_0-rmse:0.62348\n",
      "[200]\tvalidation_0-rmse:0.621415\n",
      "Stopping. Best iteration:\n",
      "[143]\tvalidation_0-rmse:0.618678\n",
      "\n",
      "\n",
      " Fold 0.6186781714835115\n",
      "\n",
      "---- Fold 3 -----\n",
      "\n",
      "7 7\n",
      "[14:23:25] WARNING: C:/Jenkins/workspace/xgboost-win64_release_0.90/src/objective/regression_obj.cu:152: reg:linear is now deprecated in favor of reg:squarederror.\n",
      "[0]\tvalidation_0-rmse:5.92234\n",
      "Will train until validation_0-rmse hasn't improved in 100 rounds.\n"
     ]
    },
    {
     "name": "stderr",
     "output_type": "stream",
     "text": [
      "C:\\Users\\RAKESH\\Anaconda3\\lib\\site-packages\\xgboost\\core.py:587: FutureWarning: Series.base is deprecated and will be removed in a future version\n",
      "  if getattr(data, 'base', None) is not None and \\\n"
     ]
    },
    {
     "name": "stdout",
     "output_type": "stream",
     "text": [
      "[100]\tvalidation_0-rmse:0.594242\n",
      "[200]\tvalidation_0-rmse:0.595877\n",
      "Stopping. Best iteration:\n",
      "[122]\tvalidation_0-rmse:0.589198\n",
      "\n",
      "\n",
      " Fold 0.589197899129492\n",
      "\n",
      "---- Fold 4 -----\n",
      "\n",
      "7 7\n",
      "[14:23:27] WARNING: C:/Jenkins/workspace/xgboost-win64_release_0.90/src/objective/regression_obj.cu:152: reg:linear is now deprecated in favor of reg:squarederror.\n",
      "[0]\tvalidation_0-rmse:5.92278\n",
      "Will train until validation_0-rmse hasn't improved in 100 rounds.\n"
     ]
    },
    {
     "name": "stderr",
     "output_type": "stream",
     "text": [
      "C:\\Users\\RAKESH\\Anaconda3\\lib\\site-packages\\xgboost\\core.py:587: FutureWarning: Series.base is deprecated and will be removed in a future version\n",
      "  if getattr(data, 'base', None) is not None and \\\n"
     ]
    },
    {
     "name": "stdout",
     "output_type": "stream",
     "text": [
      "[100]\tvalidation_0-rmse:0.675816\n",
      "[200]\tvalidation_0-rmse:0.66889\n",
      "Stopping. Best iteration:\n",
      "[152]\tvalidation_0-rmse:0.668405\n",
      "\n",
      "\n",
      " Fold 0.6684054641837002\n",
      "\n",
      "---- Fold 5 -----\n",
      "\n",
      "7 7\n",
      "[14:23:28] WARNING: C:/Jenkins/workspace/xgboost-win64_release_0.90/src/objective/regression_obj.cu:152: reg:linear is now deprecated in favor of reg:squarederror.\n",
      "[0]\tvalidation_0-rmse:5.93968\n",
      "Will train until validation_0-rmse hasn't improved in 100 rounds.\n"
     ]
    },
    {
     "name": "stderr",
     "output_type": "stream",
     "text": [
      "C:\\Users\\RAKESH\\Anaconda3\\lib\\site-packages\\xgboost\\core.py:587: FutureWarning: Series.base is deprecated and will be removed in a future version\n",
      "  if getattr(data, 'base', None) is not None and \\\n"
     ]
    },
    {
     "name": "stdout",
     "output_type": "stream",
     "text": [
      "[100]\tvalidation_0-rmse:0.557224\n",
      "[200]\tvalidation_0-rmse:0.5589\n",
      "Stopping. Best iteration:\n",
      "[119]\tvalidation_0-rmse:0.554674\n",
      "\n",
      "\n",
      " Fold 0.5546738332554141\n",
      "\n",
      "---- Fold 6 -----\n",
      "\n",
      "7 7\n",
      "[14:23:30] WARNING: C:/Jenkins/workspace/xgboost-win64_release_0.90/src/objective/regression_obj.cu:152: reg:linear is now deprecated in favor of reg:squarederror.\n",
      "[0]\tvalidation_0-rmse:5.9277\n",
      "Will train until validation_0-rmse hasn't improved in 100 rounds.\n"
     ]
    },
    {
     "name": "stderr",
     "output_type": "stream",
     "text": [
      "C:\\Users\\RAKESH\\Anaconda3\\lib\\site-packages\\xgboost\\core.py:587: FutureWarning: Series.base is deprecated and will be removed in a future version\n",
      "  if getattr(data, 'base', None) is not None and \\\n"
     ]
    },
    {
     "name": "stdout",
     "output_type": "stream",
     "text": [
      "[100]\tvalidation_0-rmse:0.624895\n",
      "[200]\tvalidation_0-rmse:0.627522\n",
      "Stopping. Best iteration:\n",
      "[112]\tvalidation_0-rmse:0.622161\n",
      "\n",
      "\n",
      " Fold 0.6221613982726605\n",
      "\n",
      "---- Fold 7 -----\n",
      "\n",
      "7 7\n",
      "[14:23:31] WARNING: C:/Jenkins/workspace/xgboost-win64_release_0.90/src/objective/regression_obj.cu:152: reg:linear is now deprecated in favor of reg:squarederror.\n",
      "[0]\tvalidation_0-rmse:5.97739\n",
      "Will train until validation_0-rmse hasn't improved in 100 rounds.\n"
     ]
    },
    {
     "name": "stderr",
     "output_type": "stream",
     "text": [
      "C:\\Users\\RAKESH\\Anaconda3\\lib\\site-packages\\xgboost\\core.py:587: FutureWarning: Series.base is deprecated and will be removed in a future version\n",
      "  if getattr(data, 'base', None) is not None and \\\n"
     ]
    },
    {
     "name": "stdout",
     "output_type": "stream",
     "text": [
      "[100]\tvalidation_0-rmse:0.670545\n",
      "[200]\tvalidation_0-rmse:0.669983\n",
      "Stopping. Best iteration:\n",
      "[124]\tvalidation_0-rmse:0.662777\n",
      "\n",
      "\n",
      " Fold 0.6627772613319405\n",
      "\n",
      "---- Fold 8 -----\n",
      "\n",
      "7 7\n",
      "[14:23:33] WARNING: C:/Jenkins/workspace/xgboost-win64_release_0.90/src/objective/regression_obj.cu:152: reg:linear is now deprecated in favor of reg:squarederror.\n",
      "[0]\tvalidation_0-rmse:5.94874\n",
      "Will train until validation_0-rmse hasn't improved in 100 rounds.\n"
     ]
    },
    {
     "name": "stderr",
     "output_type": "stream",
     "text": [
      "C:\\Users\\RAKESH\\Anaconda3\\lib\\site-packages\\xgboost\\core.py:587: FutureWarning: Series.base is deprecated and will be removed in a future version\n",
      "  if getattr(data, 'base', None) is not None and \\\n"
     ]
    },
    {
     "name": "stdout",
     "output_type": "stream",
     "text": [
      "[100]\tvalidation_0-rmse:0.669769\n",
      "[200]\tvalidation_0-rmse:0.670062\n",
      "Stopping. Best iteration:\n",
      "[110]\tvalidation_0-rmse:0.665936\n",
      "\n",
      "\n",
      " Fold 0.6659366371356683\n",
      "\n",
      "---- Fold 9 -----\n",
      "\n",
      "7 7\n",
      "[14:23:34] WARNING: C:/Jenkins/workspace/xgboost-win64_release_0.90/src/objective/regression_obj.cu:152: reg:linear is now deprecated in favor of reg:squarederror.\n",
      "[0]\tvalidation_0-rmse:6.00541\n",
      "Will train until validation_0-rmse hasn't improved in 100 rounds.\n"
     ]
    },
    {
     "name": "stderr",
     "output_type": "stream",
     "text": [
      "C:\\Users\\RAKESH\\Anaconda3\\lib\\site-packages\\xgboost\\core.py:587: FutureWarning: Series.base is deprecated and will be removed in a future version\n",
      "  if getattr(data, 'base', None) is not None and \\\n"
     ]
    },
    {
     "name": "stdout",
     "output_type": "stream",
     "text": [
      "[100]\tvalidation_0-rmse:0.645035\n",
      "[200]\tvalidation_0-rmse:0.643366\n",
      "Stopping. Best iteration:\n",
      "[154]\tvalidation_0-rmse:0.640248\n",
      "\n",
      "\n",
      " Fold 0.6402484844558973\n",
      "\n",
      "OOF val score: 0.6468229184357003\n",
      "Mean rmsle: 0.6424 and std Dev. is 0.05 \n",
      "\n"
     ]
    }
   ],
   "source": [
    "training_start_time = time.time()\n",
    "rsmle = list()\n",
    "max_iter = 10\n",
    "folds = StratifiedKFold(n_splits = max_iter)\n",
    "oofs = np.zeros(len(X))\n",
    "test_preds = np.zeros(len(Xt))\n",
    "\n",
    "\n",
    "for fold_, (trn_idx, val_idx) in enumerate(folds.split(X, pd.qcut(y, 10, labels=False, duplicates='drop'))):\n",
    "    \n",
    "    print(f'\\n---- Fold {fold_} -----\\n')\n",
    "    \n",
    "    X_trn, y_trn = X.iloc[trn_idx][features], y.iloc[trn_idx]\n",
    "    X_val, y_val = X.iloc[val_idx][features], y.iloc[val_idx]\n",
    "    X_test = Xt[features]\n",
    "    \n",
    "    xgb = XGBRegressor(n_estimators=1000, max_depth=12, learning_rate=0.05, colsample_bytree=0.45)\n",
    "    _ = xgb.fit(X_trn, np.log(y_trn), eval_set = [(X_val, np.log(y_val))], verbose=100, early_stopping_rounds=100, eval_metric='rmse')\n",
    "    \n",
    "    oofs[val_idx] = np.exp(xgb.predict(X_val))\n",
    "    current_test_pred = np.exp(xgb.predict(X_test))\n",
    "    test_preds += np.exp(xgb.predict(X_test))/max_iter\n",
    "    \n",
    "    print(f'\\n Fold {rmse(np.log(y_val), np.log(oofs[val_idx]))}')\n",
    "    rmsle = np.append(rmsle, rmse(np.log(y_val), np.log(oofs[val_idx])))\n",
    "    \n",
    "\n",
    "print(f'\\nOOF val score: {rmse(np.log(y), np.log(oofs))}')\n",
    "print(f'Mean rmsle: {np.mean(rmsle):.4f} and std Dev. is {np.std(rmsle):.2f} \\n')"
   ]
  },
  {
   "cell_type": "code",
   "execution_count": 35,
   "metadata": {},
   "outputs": [],
   "source": [
    "vp1, tp1 = oofs, test_preds"
   ]
  },
  {
   "cell_type": "code",
   "execution_count": 36,
   "metadata": {},
   "outputs": [
    {
     "data": {
      "text/plain": [
       "count     1051.000000\n",
       "mean      1724.226655\n",
       "std       4726.580401\n",
       "min        192.417725\n",
       "25%        512.936945\n",
       "50%        687.188286\n",
       "75%        961.317192\n",
       "max      47153.482910\n",
       "Name: Selling_Price, dtype: float64"
      ]
     },
     "execution_count": 36,
     "metadata": {},
     "output_type": "execute_result"
    }
   ],
   "source": [
    "sub = pd.DataFrame({'Selling_Price': tp1})\n",
    "sub['Selling_Price'] = np.clip(sub['Selling_Price'], y.min(), y.max())\n",
    "sub['Selling_Price'].describe()"
   ]
  },
  {
   "cell_type": "code",
   "execution_count": 37,
   "metadata": {},
   "outputs": [
    {
     "data": {
      "text/html": [
       "<div>\n",
       "<style scoped>\n",
       "    .dataframe tbody tr th:only-of-type {\n",
       "        vertical-align: middle;\n",
       "    }\n",
       "\n",
       "    .dataframe tbody tr th {\n",
       "        vertical-align: top;\n",
       "    }\n",
       "\n",
       "    .dataframe thead th {\n",
       "        text-align: right;\n",
       "    }\n",
       "</style>\n",
       "<table border=\"1\" class=\"dataframe\">\n",
       "  <thead>\n",
       "    <tr style=\"text-align: right;\">\n",
       "      <th></th>\n",
       "      <th>Selling_Price</th>\n",
       "    </tr>\n",
       "  </thead>\n",
       "  <tbody>\n",
       "    <tr>\n",
       "      <td>0</td>\n",
       "      <td>2474.274780</td>\n",
       "    </tr>\n",
       "    <tr>\n",
       "      <td>1</td>\n",
       "      <td>505.326077</td>\n",
       "    </tr>\n",
       "    <tr>\n",
       "      <td>2</td>\n",
       "      <td>614.548897</td>\n",
       "    </tr>\n",
       "    <tr>\n",
       "      <td>3</td>\n",
       "      <td>392.805653</td>\n",
       "    </tr>\n",
       "    <tr>\n",
       "      <td>4</td>\n",
       "      <td>584.099537</td>\n",
       "    </tr>\n",
       "    <tr>\n",
       "      <td>5</td>\n",
       "      <td>467.046844</td>\n",
       "    </tr>\n",
       "    <tr>\n",
       "      <td>6</td>\n",
       "      <td>756.160885</td>\n",
       "    </tr>\n",
       "    <tr>\n",
       "      <td>7</td>\n",
       "      <td>18756.812866</td>\n",
       "    </tr>\n",
       "    <tr>\n",
       "      <td>8</td>\n",
       "      <td>26567.247559</td>\n",
       "    </tr>\n",
       "    <tr>\n",
       "      <td>9</td>\n",
       "      <td>336.728607</td>\n",
       "    </tr>\n",
       "  </tbody>\n",
       "</table>\n",
       "</div>"
      ],
      "text/plain": [
       "   Selling_Price\n",
       "0    2474.274780\n",
       "1     505.326077\n",
       "2     614.548897\n",
       "3     392.805653\n",
       "4     584.099537\n",
       "5     467.046844\n",
       "6     756.160885\n",
       "7   18756.812866\n",
       "8   26567.247559\n",
       "9     336.728607"
      ]
     },
     "execution_count": 37,
     "metadata": {},
     "output_type": "execute_result"
    }
   ],
   "source": [
    "sub.head(10)"
   ]
  },
  {
   "cell_type": "code",
   "execution_count": 38,
   "metadata": {},
   "outputs": [],
   "source": [
    "sub.to_excel(mean_encoding_xgb2.xlsx, index=False)"
   ]
  },
  {
   "cell_type": "markdown",
   "metadata": {},
   "source": [
    "## Catboost Regressor"
   ]
  },
  {
   "cell_type": "code",
   "execution_count": 39,
   "metadata": {},
   "outputs": [
    {
     "name": "stdout",
     "output_type": "stream",
     "text": [
      "\n",
      "---- Fold 0 -----\n",
      "\n",
      "7 7\n",
      "0:\tlearn: 1.1378334\ttest: 1.2106431\tbest: 1.2106431 (0)\ttotal: 81.5ms\tremaining: 2m 42s\n",
      "100:\tlearn: 0.5727492\ttest: 0.6856362\tbest: 0.6854307 (96)\ttotal: 2.19s\tremaining: 41.2s\n",
      "200:\tlearn: 0.4766373\ttest: 0.6753399\tbest: 0.6753399 (200)\ttotal: 4.36s\tremaining: 39s\n",
      "300:\tlearn: 0.4095936\ttest: 0.6695300\tbest: 0.6687454 (289)\ttotal: 6.56s\tremaining: 37s\n",
      "400:\tlearn: 0.3618127\ttest: 0.6679298\tbest: 0.6667919 (338)\ttotal: 8.78s\tremaining: 35s\n",
      "Stopped by overfitting detector  (100 iterations wait)\n",
      "\n",
      "bestTest = 0.6667918643\n",
      "bestIteration = 338\n",
      "\n",
      "Shrink model to first 339 iterations.\n",
      "\n",
      " Fold 0.6667918725210784\n",
      "\n",
      "---- Fold 1 -----\n",
      "\n",
      "7 7\n",
      "0:\tlearn: 1.1455216\ttest: 1.1579575\tbest: 1.1579575 (0)\ttotal: 15.2ms\tremaining: 30.4s\n",
      "100:\tlearn: 0.5684721\ttest: 0.7493767\tbest: 0.7493761 (99)\ttotal: 2.22s\tremaining: 41.8s\n",
      "200:\tlearn: 0.4743747\ttest: 0.7310379\tbest: 0.7307905 (191)\ttotal: 4.4s\tremaining: 39.4s\n",
      "300:\tlearn: 0.4076418\ttest: 0.7278070\tbest: 0.7272132 (288)\ttotal: 6.61s\tremaining: 37.3s\n",
      "400:\tlearn: 0.3601144\ttest: 0.7265643\tbest: 0.7265058 (399)\ttotal: 8.91s\tremaining: 35.5s\n",
      "500:\tlearn: 0.3267142\ttest: 0.7278376\tbest: 0.7259638 (423)\ttotal: 11s\tremaining: 33s\n",
      "Stopped by overfitting detector  (100 iterations wait)\n",
      "\n",
      "bestTest = 0.7259638044\n",
      "bestIteration = 423\n",
      "\n",
      "Shrink model to first 424 iterations.\n",
      "\n",
      " Fold 0.7259637879823245\n",
      "\n",
      "---- Fold 2 -----\n",
      "\n",
      "7 7\n",
      "0:\tlearn: 1.1455216\ttest: 1.1588210\tbest: 1.1588210 (0)\ttotal: 17.7ms\tremaining: 35.4s\n",
      "100:\tlearn: 0.5794738\ttest: 0.6552193\tbest: 0.6552193 (100)\ttotal: 2.13s\tremaining: 40.1s\n",
      "200:\tlearn: 0.4868848\ttest: 0.6272814\tbest: 0.6272814 (200)\ttotal: 4.51s\tremaining: 40.4s\n",
      "300:\tlearn: 0.4182072\ttest: 0.6203883\tbest: 0.6197211 (266)\ttotal: 6.74s\tremaining: 38s\n",
      "400:\tlearn: 0.3664534\ttest: 0.6183391\tbest: 0.6183391 (400)\ttotal: 9.03s\tremaining: 36s\n",
      "500:\tlearn: 0.3281373\ttest: 0.6193973\tbest: 0.6181706 (437)\ttotal: 11.2s\tremaining: 33.5s\n",
      "Stopped by overfitting detector  (100 iterations wait)\n",
      "\n",
      "bestTest = 0.6181706368\n",
      "bestIteration = 437\n",
      "\n",
      "Shrink model to first 438 iterations.\n",
      "\n",
      " Fold 0.618170638932291\n",
      "\n",
      "---- Fold 3 -----\n",
      "\n",
      "7 7\n",
      "0:\tlearn: 1.1535915\ttest: 1.0652251\tbest: 1.0652251 (0)\ttotal: 16.6ms\tremaining: 33.2s\n",
      "100:\tlearn: 0.5726627\ttest: 0.6220550\tbest: 0.6220550 (100)\ttotal: 2.31s\tremaining: 43.4s\n",
      "200:\tlearn: 0.4792238\ttest: 0.6147835\tbest: 0.6136600 (185)\ttotal: 4.58s\tremaining: 41s\n",
      "Stopped by overfitting detector  (100 iterations wait)\n",
      "\n",
      "bestTest = 0.6136599619\n",
      "bestIteration = 185\n",
      "\n",
      "Shrink model to first 186 iterations.\n",
      "\n",
      " Fold 0.6136599596063191\n",
      "\n",
      "---- Fold 4 -----\n",
      "\n",
      "7 7\n",
      "0:\tlearn: 1.1498435\ttest: 1.1116137\tbest: 1.1116137 (0)\ttotal: 15.8ms\tremaining: 31.6s\n",
      "100:\tlearn: 0.5712278\ttest: 0.7017364\tbest: 0.7017364 (100)\ttotal: 2.15s\tremaining: 40.5s\n",
      "200:\tlearn: 0.4766202\ttest: 0.6819965\tbest: 0.6819965 (200)\ttotal: 4.35s\tremaining: 38.9s\n",
      "300:\tlearn: 0.4154804\ttest: 0.6808112\tbest: 0.6794704 (242)\ttotal: 6.56s\tremaining: 37.1s\n",
      "400:\tlearn: 0.3673540\ttest: 0.6785361\tbest: 0.6770265 (344)\ttotal: 8.88s\tremaining: 35.4s\n",
      "500:\tlearn: 0.3302655\ttest: 0.6777465\tbest: 0.6765157 (420)\ttotal: 11.1s\tremaining: 33.1s\n",
      "Stopped by overfitting detector  (100 iterations wait)\n",
      "\n",
      "bestTest = 0.6765157284\n",
      "bestIteration = 420\n",
      "\n",
      "Shrink model to first 421 iterations.\n",
      "\n",
      " Fold 0.6765157414046282\n",
      "\n",
      "---- Fold 5 -----\n",
      "\n",
      "7 7\n",
      "0:\tlearn: 1.1452604\ttest: 1.1416847\tbest: 1.1416847 (0)\ttotal: 15.7ms\tremaining: 31.4s\n",
      "100:\tlearn: 0.5776627\ttest: 0.6371285\tbest: 0.6371259 (99)\ttotal: 2.14s\tremaining: 40.2s\n",
      "200:\tlearn: 0.4879546\ttest: 0.6136920\tbest: 0.6136920 (200)\ttotal: 4.37s\tremaining: 39.1s\n",
      "300:\tlearn: 0.4213882\ttest: 0.6008430\tbest: 0.6008430 (300)\ttotal: 6.62s\tremaining: 37.4s\n",
      "400:\tlearn: 0.3690219\ttest: 0.5965892\tbest: 0.5964177 (399)\ttotal: 8.91s\tremaining: 35.5s\n",
      "500:\tlearn: 0.3281178\ttest: 0.5967338\tbest: 0.5961548 (419)\ttotal: 11s\tremaining: 33s\n",
      "Stopped by overfitting detector  (100 iterations wait)\n",
      "\n",
      "bestTest = 0.5961548207\n",
      "bestIteration = 419\n",
      "\n",
      "Shrink model to first 420 iterations.\n",
      "\n",
      " Fold 0.5961548097331038\n",
      "\n",
      "---- Fold 6 -----\n",
      "\n",
      "7 7\n",
      "0:\tlearn: 1.1505759\ttest: 1.0952581\tbest: 1.0952581 (0)\ttotal: 17.2ms\tremaining: 34.4s\n",
      "100:\tlearn: 0.5804399\ttest: 0.6519025\tbest: 0.6517988 (97)\ttotal: 2.2s\tremaining: 41.3s\n",
      "200:\tlearn: 0.4853015\ttest: 0.6399202\tbest: 0.6397394 (198)\ttotal: 4.4s\tremaining: 39.4s\n",
      "300:\tlearn: 0.4230161\ttest: 0.6333530\tbest: 0.6333530 (300)\ttotal: 6.75s\tremaining: 38.1s\n",
      "400:\tlearn: 0.3709316\ttest: 0.6344777\tbest: 0.6323237 (342)\ttotal: 9.04s\tremaining: 36s\n",
      "Stopped by overfitting detector  (100 iterations wait)\n",
      "\n",
      "bestTest = 0.6323237472\n",
      "bestIteration = 342\n",
      "\n",
      "Shrink model to first 343 iterations.\n",
      "\n",
      " Fold 0.6323237396419104\n",
      "\n",
      "---- Fold 7 -----\n",
      "\n",
      "7 7\n",
      "0:\tlearn: 1.1404641\ttest: 1.1843363\tbest: 1.1843363 (0)\ttotal: 24.3ms\tremaining: 48.6s\n",
      "100:\tlearn: 0.5767986\ttest: 0.6903376\tbest: 0.6900464 (98)\ttotal: 2.32s\tremaining: 43.7s\n",
      "200:\tlearn: 0.4784546\ttest: 0.6678751\tbest: 0.6672704 (184)\ttotal: 4.51s\tremaining: 40.3s\n",
      "300:\tlearn: 0.4139945\ttest: 0.6592519\tbest: 0.6590940 (299)\ttotal: 6.71s\tremaining: 37.9s\n",
      "400:\tlearn: 0.3671757\ttest: 0.6589404\tbest: 0.6573614 (346)\ttotal: 8.93s\tremaining: 35.6s\n",
      "Stopped by overfitting detector  (100 iterations wait)\n",
      "\n",
      "bestTest = 0.6573614335\n",
      "bestIteration = 346\n",
      "\n",
      "Shrink model to first 347 iterations.\n",
      "\n",
      " Fold 0.6573614353435976\n",
      "\n",
      "---- Fold 8 -----\n",
      "\n",
      "7 7\n",
      "0:\tlearn: 1.1464877\ttest: 1.1368361\tbest: 1.1368361 (0)\ttotal: 17.7ms\tremaining: 35.5s\n",
      "100:\tlearn: 0.5739482\ttest: 0.6918115\tbest: 0.6916034 (96)\ttotal: 2.21s\tremaining: 41.6s\n",
      "200:\tlearn: 0.4775902\ttest: 0.6836038\tbest: 0.6828614 (181)\ttotal: 4.51s\tremaining: 40.3s\n",
      "300:\tlearn: 0.4095424\ttest: 0.6765311\tbest: 0.6757433 (295)\ttotal: 6.74s\tremaining: 38s\n",
      "400:\tlearn: 0.3632871\ttest: 0.6745020\tbest: 0.6745020 (400)\ttotal: 9.03s\tremaining: 36s\n",
      "500:\tlearn: 0.3248543\ttest: 0.6719387\tbest: 0.6718863 (491)\ttotal: 11.3s\tremaining: 33.9s\n",
      "600:\tlearn: 0.2936599\ttest: 0.6715393\tbest: 0.6710294 (529)\ttotal: 13.6s\tremaining: 31.7s\n",
      "700:\tlearn: 0.2662773\ttest: 0.6718999\tbest: 0.6701410 (656)\ttotal: 15.8s\tremaining: 29.3s\n",
      "Stopped by overfitting detector  (100 iterations wait)\n",
      "\n",
      "bestTest = 0.6701409914\n",
      "bestIteration = 656\n",
      "\n",
      "Shrink model to first 657 iterations.\n",
      "\n",
      " Fold 0.6701410133882426\n",
      "\n",
      "---- Fold 9 -----\n",
      "\n",
      "7 7\n",
      "0:\tlearn: 1.1395574\ttest: 1.1943636\tbest: 1.1943636 (0)\ttotal: 17ms\tremaining: 34s\n",
      "100:\tlearn: 0.5740012\ttest: 0.6437709\tbest: 0.6434785 (97)\ttotal: 2.21s\tremaining: 41.5s\n",
      "200:\tlearn: 0.4817165\ttest: 0.6269911\tbest: 0.6269911 (200)\ttotal: 4.55s\tremaining: 40.7s\n",
      "300:\tlearn: 0.4156957\ttest: 0.6257523\tbest: 0.6244693 (264)\ttotal: 6.99s\tremaining: 39.5s\n",
      "400:\tlearn: 0.3657295\ttest: 0.6245818\tbest: 0.6223822 (340)\ttotal: 9.58s\tremaining: 38.2s\n",
      "Stopped by overfitting detector  (100 iterations wait)\n",
      "\n",
      "bestTest = 0.622382204\n",
      "bestIteration = 340\n",
      "\n",
      "Shrink model to first 341 iterations.\n",
      "\n",
      " Fold 0.6223822253963907\n",
      "\n",
      "OOF val score: 0.6490266244630277\n",
      "Mean rmsle: 0.6479 and std Dev. is 0.04 \n",
      "\n"
     ]
    }
   ],
   "source": [
    "rmsle = list()\n",
    "max_iter = 10\n",
    "folds = StratifiedKFold(n_splits = max_iter)\n",
    "oofs = np.zeros(len(X))\n",
    "test_preds = np.zeros(len(Xt))\n",
    "\n",
    "\n",
    "for fold_, (trn_idx, val_idx) in enumerate(folds.split(X, pd.qcut(y, 10, labels=False, duplicates='drop'))):\n",
    "    \n",
    "    print(f'\\n---- Fold {fold_} -----\\n')\n",
    "    \n",
    "    X_trn, y_trn = X.iloc[trn_idx][features], y.iloc[trn_idx]\n",
    "    X_val, y_val = X.iloc[val_idx][features], y.iloc[val_idx]\n",
    "    X_test = Xt[features]\n",
    "    \n",
    "    cat = CatBoostRegressor(n_estimators=2000, learning_rate=0.05, max_depth=9, rsm=0.5)\n",
    "    _ = cat.fit(X_trn, np.log(y_trn), eval_set = [(X_val, np.log(y_val))], verbose=100, early_stopping_rounds=100)\n",
    "    \n",
    "    oofs[val_idx] = np.exp(cat.predict(X_val))\n",
    "    current_test_pred = np.exp(cat.predict(X_test))\n",
    "    test_preds += np.exp(cat.predict(X_test))/max_iter\n",
    "    \n",
    "    print(f'\\n Fold {rmse(np.log(y_val), np.log(oofs[val_idx]))}')\n",
    "    rmsle = np.append(rmsle, rmse(np.log(y_val), np.log(oofs[val_idx])))\n",
    "    \n",
    "\n",
    "print(f'\\nOOF val score: {rmse(np.log(y), np.log(oofs))}')\n",
    "print(f'Mean rmsle: {np.mean(rmsle):.4f} and std Dev. is {np.std(rmsle):.2f} \\n')"
   ]
  },
  {
   "cell_type": "code",
   "execution_count": 40,
   "metadata": {},
   "outputs": [],
   "source": [
    "vp2,tp2 = oofs, test_preds"
   ]
  },
  {
   "cell_type": "code",
   "execution_count": 41,
   "metadata": {},
   "outputs": [
    {
     "data": {
      "text/plain": [
       "count     1051.000000\n",
       "mean      1801.644334\n",
       "std       5106.060729\n",
       "min        188.374762\n",
       "25%        492.691986\n",
       "50%        679.822812\n",
       "75%        952.491875\n",
       "max      50725.985821\n",
       "Name: Selling_Price, dtype: float64"
      ]
     },
     "execution_count": 41,
     "metadata": {},
     "output_type": "execute_result"
    }
   ],
   "source": [
    "sub = pd.DataFrame({'Selling_Price': tp2})\n",
    "sub['Selling_Price'] = np.clip(sub['Selling_Price'], y.min(), y.max())\n",
    "sub['Selling_Price'].describe()"
   ]
  },
  {
   "cell_type": "code",
   "execution_count": 42,
   "metadata": {},
   "outputs": [
    {
     "data": {
      "text/html": [
       "<div>\n",
       "<style scoped>\n",
       "    .dataframe tbody tr th:only-of-type {\n",
       "        vertical-align: middle;\n",
       "    }\n",
       "\n",
       "    .dataframe tbody tr th {\n",
       "        vertical-align: top;\n",
       "    }\n",
       "\n",
       "    .dataframe thead th {\n",
       "        text-align: right;\n",
       "    }\n",
       "</style>\n",
       "<table border=\"1\" class=\"dataframe\">\n",
       "  <thead>\n",
       "    <tr style=\"text-align: right;\">\n",
       "      <th></th>\n",
       "      <th>Selling_Price</th>\n",
       "    </tr>\n",
       "  </thead>\n",
       "  <tbody>\n",
       "    <tr>\n",
       "      <td>0</td>\n",
       "      <td>2477.668432</td>\n",
       "    </tr>\n",
       "    <tr>\n",
       "      <td>1</td>\n",
       "      <td>718.465332</td>\n",
       "    </tr>\n",
       "    <tr>\n",
       "      <td>2</td>\n",
       "      <td>686.331720</td>\n",
       "    </tr>\n",
       "    <tr>\n",
       "      <td>3</td>\n",
       "      <td>362.244456</td>\n",
       "    </tr>\n",
       "    <tr>\n",
       "      <td>4</td>\n",
       "      <td>659.505199</td>\n",
       "    </tr>\n",
       "    <tr>\n",
       "      <td>5</td>\n",
       "      <td>604.881107</td>\n",
       "    </tr>\n",
       "    <tr>\n",
       "      <td>6</td>\n",
       "      <td>353.181865</td>\n",
       "    </tr>\n",
       "    <tr>\n",
       "      <td>7</td>\n",
       "      <td>18626.989386</td>\n",
       "    </tr>\n",
       "    <tr>\n",
       "      <td>8</td>\n",
       "      <td>27620.655475</td>\n",
       "    </tr>\n",
       "    <tr>\n",
       "      <td>9</td>\n",
       "      <td>297.095524</td>\n",
       "    </tr>\n",
       "  </tbody>\n",
       "</table>\n",
       "</div>"
      ],
      "text/plain": [
       "   Selling_Price\n",
       "0    2477.668432\n",
       "1     718.465332\n",
       "2     686.331720\n",
       "3     362.244456\n",
       "4     659.505199\n",
       "5     604.881107\n",
       "6     353.181865\n",
       "7   18626.989386\n",
       "8   27620.655475\n",
       "9     297.095524"
      ]
     },
     "execution_count": 42,
     "metadata": {},
     "output_type": "execute_result"
    }
   ],
   "source": [
    "sub.head(10)"
   ]
  },
  {
   "cell_type": "code",
   "execution_count": 43,
   "metadata": {},
   "outputs": [],
   "source": [
    "sub.to_excel(mean_encoding_catboost_2.xlsx, index=False)"
   ]
  },
  {
   "cell_type": "code",
   "execution_count": 44,
   "metadata": {},
   "outputs": [],
   "source": [
    "feat_imp = pd.DataFrame({'columns':X.columns,'feature_importance':cat.feature_importances_})"
   ]
  },
  {
   "cell_type": "code",
   "execution_count": 45,
   "metadata": {},
   "outputs": [
    {
     "data": {
      "text/html": [
       "<div>\n",
       "<style scoped>\n",
       "    .dataframe tbody tr th:only-of-type {\n",
       "        vertical-align: middle;\n",
       "    }\n",
       "\n",
       "    .dataframe tbody tr th {\n",
       "        vertical-align: top;\n",
       "    }\n",
       "\n",
       "    .dataframe thead th {\n",
       "        text-align: right;\n",
       "    }\n",
       "</style>\n",
       "<table border=\"1\" class=\"dataframe\">\n",
       "  <thead>\n",
       "    <tr style=\"text-align: right;\">\n",
       "      <th></th>\n",
       "      <th>columns</th>\n",
       "      <th>feature_importance</th>\n",
       "    </tr>\n",
       "  </thead>\n",
       "  <tbody>\n",
       "    <tr>\n",
       "      <td>0</td>\n",
       "      <td>mean_price_brand</td>\n",
       "      <td>19.510476</td>\n",
       "    </tr>\n",
       "    <tr>\n",
       "      <td>1</td>\n",
       "      <td>mean_price_category</td>\n",
       "      <td>11.620908</td>\n",
       "    </tr>\n",
       "    <tr>\n",
       "      <td>2</td>\n",
       "      <td>mean_price_subcategory</td>\n",
       "      <td>28.806981</td>\n",
       "    </tr>\n",
       "    <tr>\n",
       "      <td>3</td>\n",
       "      <td>mean_price_variant</td>\n",
       "      <td>14.468988</td>\n",
       "    </tr>\n",
       "    <tr>\n",
       "      <td>4</td>\n",
       "      <td>mean_price_rating</td>\n",
       "      <td>6.060083</td>\n",
       "    </tr>\n",
       "    <tr>\n",
       "      <td>5</td>\n",
       "      <td>mean_price_month_rating</td>\n",
       "      <td>6.855070</td>\n",
       "    </tr>\n",
       "    <tr>\n",
       "      <td>6</td>\n",
       "      <td>month</td>\n",
       "      <td>12.677494</td>\n",
       "    </tr>\n",
       "  </tbody>\n",
       "</table>\n",
       "</div>"
      ],
      "text/plain": [
       "                   columns  feature_importance\n",
       "0         mean_price_brand           19.510476\n",
       "1      mean_price_category           11.620908\n",
       "2   mean_price_subcategory           28.806981\n",
       "3       mean_price_variant           14.468988\n",
       "4        mean_price_rating            6.060083\n",
       "5  mean_price_month_rating            6.855070\n",
       "6                    month           12.677494"
      ]
     },
     "execution_count": 45,
     "metadata": {},
     "output_type": "execute_result"
    }
   ],
   "source": [
    "feat_imp"
   ]
  },
  {
   "cell_type": "markdown",
   "metadata": {},
   "source": [
    "## RandomForest Regressor"
   ]
  },
  {
   "cell_type": "code",
   "execution_count": 46,
   "metadata": {},
   "outputs": [
    {
     "name": "stdout",
     "output_type": "stream",
     "text": [
      "\n",
      "---- Fold 0 -----\n",
      "\n",
      "7 7\n",
      "\n",
      " Fold 0.659463463315247\n",
      "\n",
      "---- Fold 1 -----\n",
      "\n",
      "7 7\n",
      "\n",
      " Fold 0.7458414055197894\n",
      "\n",
      "---- Fold 2 -----\n",
      "\n",
      "7 7\n",
      "\n",
      " Fold 0.627020644053488\n",
      "\n",
      "---- Fold 3 -----\n",
      "\n",
      "7 7\n",
      "\n",
      " Fold 0.5984731475408748\n",
      "\n",
      "---- Fold 4 -----\n",
      "\n",
      "7 7\n",
      "\n",
      " Fold 0.6780825477042365\n",
      "\n",
      "---- Fold 5 -----\n",
      "\n",
      "7 7\n",
      "\n",
      " Fold 0.6090957466309501\n",
      "\n",
      "---- Fold 6 -----\n",
      "\n",
      "7 7\n",
      "\n",
      " Fold 0.6473644005306018\n",
      "\n",
      "---- Fold 7 -----\n",
      "\n",
      "7 7\n",
      "\n",
      " Fold 0.6804726971947518\n",
      "\n",
      "---- Fold 8 -----\n",
      "\n",
      "7 7\n",
      "\n",
      " Fold 0.6860505917189276\n",
      "\n",
      "---- Fold 9 -----\n",
      "\n",
      "7 7\n",
      "\n",
      " Fold 0.6551614496329522\n",
      "\n",
      "OOF val score: 0.6599852698689745\n",
      "Mean rmsle: 0.6587 and std Dev. is 0.04 \n",
      "\n"
     ]
    }
   ],
   "source": [
    "training_start_time = time.time()\n",
    "\n",
    "rmsle = list()\n",
    "max_iter = 10\n",
    "folds = StratifiedKFold(n_splits = max_iter)\n",
    "oofs = np.zeros(len(X))\n",
    "test_preds = np.zeros(len(Xt))\n",
    "\n",
    "\n",
    "for fold_, (trn_idx, val_idx) in enumerate(folds.split(X, pd.qcut(y, 10, labels=False, duplicates='drop'))):\n",
    "    \n",
    "    print(f'\\n---- Fold {fold_} -----\\n')\n",
    "    \n",
    "    X_trn, y_trn = X.iloc[trn_idx][features], y.iloc[trn_idx]\n",
    "    X_val, y_val = X.iloc[val_idx][features], y.iloc[val_idx]\n",
    "    X_test = Xt[features]\n",
    "    \n",
    "    rfg = RandomForestRegressor(n_estimators=1000,random_state=1234,max_depth=8)\n",
    "    _ = rfg.fit(X_trn, np.log(y_trn))\n",
    "    \n",
    "\n",
    "    oofs[val_idx] = np.exp(rfg.predict(X_val))\n",
    "    current_test_pred = np.exp(rfg.predict(X_test))\n",
    "    test_preds += np.exp(rfg.predict(X_test))/max_iter\n",
    "    \n",
    "    print(f'\\n Fold {rmse(np.log(y_val), np.log(oofs[val_idx]))}')\n",
    "    rmsle = np.append(rmsle, rmse(np.log(y_val), np.log(oofs[val_idx])))\n",
    "    \n",
    "\n",
    "print(f'\\nOOF val score: {rmse(np.log(y), np.log(oofs))}')\n",
    "print(f'Mean rmsle: {np.mean(rmsle):.4f} and std Dev. is {np.std(rmsle):.2f} \\n')"
   ]
  },
  {
   "cell_type": "code",
   "execution_count": 47,
   "metadata": {},
   "outputs": [],
   "source": [
    "vp4 , tp4 = oofs , test_preds"
   ]
  },
  {
   "cell_type": "code",
   "execution_count": 48,
   "metadata": {},
   "outputs": [
    {
     "data": {
      "text/plain": [
       "count     1051.000000\n",
       "mean      1748.874796\n",
       "std       4942.439753\n",
       "min        186.817357\n",
       "25%        557.544306\n",
       "50%        708.476444\n",
       "75%        780.437701\n",
       "max      43119.450076\n",
       "Name: Selling_Price, dtype: float64"
      ]
     },
     "execution_count": 48,
     "metadata": {},
     "output_type": "execute_result"
    }
   ],
   "source": [
    "sub = pd.DataFrame({'Selling_Price': tp4})\n",
    "sub['Selling_Price'] = np.clip(sub['Selling_Price'], y.min(), y.max())\n",
    "sub['Selling_Price'].describe()"
   ]
  },
  {
   "cell_type": "code",
   "execution_count": 49,
   "metadata": {},
   "outputs": [
    {
     "data": {
      "text/html": [
       "<div>\n",
       "<style scoped>\n",
       "    .dataframe tbody tr th:only-of-type {\n",
       "        vertical-align: middle;\n",
       "    }\n",
       "\n",
       "    .dataframe tbody tr th {\n",
       "        vertical-align: top;\n",
       "    }\n",
       "\n",
       "    .dataframe thead th {\n",
       "        text-align: right;\n",
       "    }\n",
       "</style>\n",
       "<table border=\"1\" class=\"dataframe\">\n",
       "  <thead>\n",
       "    <tr style=\"text-align: right;\">\n",
       "      <th></th>\n",
       "      <th>Selling_Price</th>\n",
       "    </tr>\n",
       "  </thead>\n",
       "  <tbody>\n",
       "    <tr>\n",
       "      <td>0</td>\n",
       "      <td>2261.406318</td>\n",
       "    </tr>\n",
       "    <tr>\n",
       "      <td>1</td>\n",
       "      <td>619.507469</td>\n",
       "    </tr>\n",
       "    <tr>\n",
       "      <td>2</td>\n",
       "      <td>678.962684</td>\n",
       "    </tr>\n",
       "    <tr>\n",
       "      <td>3</td>\n",
       "      <td>363.916844</td>\n",
       "    </tr>\n",
       "    <tr>\n",
       "      <td>4</td>\n",
       "      <td>674.690864</td>\n",
       "    </tr>\n",
       "  </tbody>\n",
       "</table>\n",
       "</div>"
      ],
      "text/plain": [
       "   Selling_Price\n",
       "0    2261.406318\n",
       "1     619.507469\n",
       "2     678.962684\n",
       "3     363.916844\n",
       "4     674.690864"
      ]
     },
     "execution_count": 49,
     "metadata": {},
     "output_type": "execute_result"
    }
   ],
   "source": [
    "sub.head()"
   ]
  },
  {
   "cell_type": "code",
   "execution_count": 50,
   "metadata": {},
   "outputs": [],
   "source": [
    "sub.to_excel('mean_encoding_rfg2.xlsx', index=False)"
   ]
  },
  {
   "cell_type": "code",
   "execution_count": 51,
   "metadata": {},
   "outputs": [
    {
     "data": {
      "text/html": [
       "<div>\n",
       "<style scoped>\n",
       "    .dataframe tbody tr th:only-of-type {\n",
       "        vertical-align: middle;\n",
       "    }\n",
       "\n",
       "    .dataframe tbody tr th {\n",
       "        vertical-align: top;\n",
       "    }\n",
       "\n",
       "    .dataframe thead th {\n",
       "        text-align: right;\n",
       "    }\n",
       "</style>\n",
       "<table border=\"1\" class=\"dataframe\">\n",
       "  <thead>\n",
       "    <tr style=\"text-align: right;\">\n",
       "      <th></th>\n",
       "      <th>columns</th>\n",
       "      <th>feature_importance</th>\n",
       "    </tr>\n",
       "  </thead>\n",
       "  <tbody>\n",
       "    <tr>\n",
       "      <td>0</td>\n",
       "      <td>mean_price_brand</td>\n",
       "      <td>0.349303</td>\n",
       "    </tr>\n",
       "    <tr>\n",
       "      <td>1</td>\n",
       "      <td>mean_price_category</td>\n",
       "      <td>0.032390</td>\n",
       "    </tr>\n",
       "    <tr>\n",
       "      <td>2</td>\n",
       "      <td>mean_price_subcategory</td>\n",
       "      <td>0.432741</td>\n",
       "    </tr>\n",
       "    <tr>\n",
       "      <td>3</td>\n",
       "      <td>mean_price_variant</td>\n",
       "      <td>0.127502</td>\n",
       "    </tr>\n",
       "    <tr>\n",
       "      <td>4</td>\n",
       "      <td>mean_price_rating</td>\n",
       "      <td>0.010140</td>\n",
       "    </tr>\n",
       "    <tr>\n",
       "      <td>5</td>\n",
       "      <td>mean_price_month_rating</td>\n",
       "      <td>0.016201</td>\n",
       "    </tr>\n",
       "    <tr>\n",
       "      <td>6</td>\n",
       "      <td>month</td>\n",
       "      <td>0.031723</td>\n",
       "    </tr>\n",
       "  </tbody>\n",
       "</table>\n",
       "</div>"
      ],
      "text/plain": [
       "                   columns  feature_importance\n",
       "0         mean_price_brand            0.349303\n",
       "1      mean_price_category            0.032390\n",
       "2   mean_price_subcategory            0.432741\n",
       "3       mean_price_variant            0.127502\n",
       "4        mean_price_rating            0.010140\n",
       "5  mean_price_month_rating            0.016201\n",
       "6                    month            0.031723"
      ]
     },
     "execution_count": 51,
     "metadata": {},
     "output_type": "execute_result"
    }
   ],
   "source": [
    "feat_imp = pd.DataFrame({'columns':X.columns,'feature_importance':rfg.feature_importances_})\n",
    "feat_imp"
   ]
  },
  {
   "cell_type": "code",
   "execution_count": 52,
   "metadata": {},
   "outputs": [
    {
     "name": "stdout",
     "output_type": "stream",
     "text": [
      "\n",
      "OOF val score: 0.6390517178095245\n"
     ]
    }
   ],
   "source": [
    "print(f'\\nOOF val score: {rmse(np.log(y), np.log(vp0*0.2 + vp4*0.4 + vp2*0.4))}')"
   ]
  },
  {
   "cell_type": "code",
   "execution_count": 53,
   "metadata": {},
   "outputs": [],
   "source": [
    "test_preds_ensemble = tp0*0.2 + tp4*0.4 + tp2*0.4"
   ]
  },
  {
   "cell_type": "code",
   "execution_count": 54,
   "metadata": {},
   "outputs": [
    {
     "data": {
      "text/plain": [
       "count     1051.000000\n",
       "mean      1762.239145\n",
       "std       4897.445353\n",
       "min        201.814767\n",
       "25%        521.851694\n",
       "50%        695.129201\n",
       "75%        888.412595\n",
       "max      44848.603075\n",
       "Name: Selling_Price, dtype: float64"
      ]
     },
     "execution_count": 54,
     "metadata": {},
     "output_type": "execute_result"
    }
   ],
   "source": [
    "sub = pd.DataFrame({'Selling_Price': test_preds_ensemble})\n",
    "sub['Selling_Price'] = np.clip(sub['Selling_Price'], y.min(), y.max())\n",
    "sub['Selling_Price'].describe()"
   ]
  },
  {
   "cell_type": "code",
   "execution_count": 55,
   "metadata": {},
   "outputs": [
    {
     "data": {
      "text/html": [
       "<div>\n",
       "<style scoped>\n",
       "    .dataframe tbody tr th:only-of-type {\n",
       "        vertical-align: middle;\n",
       "    }\n",
       "\n",
       "    .dataframe tbody tr th {\n",
       "        vertical-align: top;\n",
       "    }\n",
       "\n",
       "    .dataframe thead th {\n",
       "        text-align: right;\n",
       "    }\n",
       "</style>\n",
       "<table border=\"1\" class=\"dataframe\">\n",
       "  <thead>\n",
       "    <tr style=\"text-align: right;\">\n",
       "      <th></th>\n",
       "      <th>Selling_Price</th>\n",
       "    </tr>\n",
       "  </thead>\n",
       "  <tbody>\n",
       "    <tr>\n",
       "      <td>0</td>\n",
       "      <td>2413.910984</td>\n",
       "    </tr>\n",
       "    <tr>\n",
       "      <td>1</td>\n",
       "      <td>654.564040</td>\n",
       "    </tr>\n",
       "    <tr>\n",
       "      <td>2</td>\n",
       "      <td>668.778211</td>\n",
       "    </tr>\n",
       "    <tr>\n",
       "      <td>3</td>\n",
       "      <td>364.707145</td>\n",
       "    </tr>\n",
       "    <tr>\n",
       "      <td>4</td>\n",
       "      <td>647.436829</td>\n",
       "    </tr>\n",
       "    <tr>\n",
       "      <td>5</td>\n",
       "      <td>607.447222</td>\n",
       "    </tr>\n",
       "    <tr>\n",
       "      <td>6</td>\n",
       "      <td>538.345737</td>\n",
       "    </tr>\n",
       "    <tr>\n",
       "      <td>7</td>\n",
       "      <td>21389.037620</td>\n",
       "    </tr>\n",
       "    <tr>\n",
       "      <td>8</td>\n",
       "      <td>27221.839458</td>\n",
       "    </tr>\n",
       "    <tr>\n",
       "      <td>9</td>\n",
       "      <td>311.146716</td>\n",
       "    </tr>\n",
       "  </tbody>\n",
       "</table>\n",
       "</div>"
      ],
      "text/plain": [
       "   Selling_Price\n",
       "0    2413.910984\n",
       "1     654.564040\n",
       "2     668.778211\n",
       "3     364.707145\n",
       "4     647.436829\n",
       "5     607.447222\n",
       "6     538.345737\n",
       "7   21389.037620\n",
       "8   27221.839458\n",
       "9     311.146716"
      ]
     },
     "execution_count": 55,
     "metadata": {},
     "output_type": "execute_result"
    }
   ],
   "source": [
    "sub.head(10)"
   ]
  },
  {
   "cell_type": "code",
   "execution_count": 56,
   "metadata": {},
   "outputs": [],
   "source": [
    "# with this solution i finished at the Rank 21.\n",
    "sub.to_excel(mean_encoding_ensemble_lgbcatrfg.xlsx, index=False)"
   ]
  },
  {
   "cell_type": "code",
   "execution_count": null,
   "metadata": {},
   "outputs": [],
   "source": []
  }
 ],
 "metadata": {
  "kernelspec": {
   "display_name": "Python 3",
   "language": "python",
   "name": "python3"
  },
  "language_info": {
   "codemirror_mode": {
    "name": "ipython",
    "version": 3
   },
   "file_extension": ".py",
   "mimetype": "text/x-python",
   "name": "python",
   "nbconvert_exporter": "python",
   "pygments_lexer": "ipython3",
   "version": "3.7.4"
  }
 },
 "nbformat": 4,
 "nbformat_minor": 2
}
